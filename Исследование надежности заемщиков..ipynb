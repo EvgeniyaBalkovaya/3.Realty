{
 "cells": [
  {
   "cell_type": "markdown",
   "id": "b5af48bb",
   "metadata": {},
   "source": [
    "# Исследование надежности заемщиков."
   ]
  },
  {
   "cell_type": "markdown",
   "id": "abfacee6",
   "metadata": {},
   "source": [
    "Задача данного проекта – разобраться, влияет ли количество детей и семейное положение на факт погашения кредита в срок. В качестве данных для исследования мы используем статистику о платёжеспособности клиентов банка заказчика."
   ]
  },
  {
   "cell_type": "markdown",
   "id": "ee49dff9",
   "metadata": {},
   "source": [
    "### Шаг 1. Обзор данных"
   ]
  },
  {
   "cell_type": "code",
   "execution_count": 3,
   "id": "11ebdcd9",
   "metadata": {},
   "outputs": [
    {
     "data": {
      "text/html": [
       "<div>\n",
       "<style scoped>\n",
       "    .dataframe tbody tr th:only-of-type {\n",
       "        vertical-align: middle;\n",
       "    }\n",
       "\n",
       "    .dataframe tbody tr th {\n",
       "        vertical-align: top;\n",
       "    }\n",
       "\n",
       "    .dataframe thead th {\n",
       "        text-align: right;\n",
       "    }\n",
       "</style>\n",
       "<table border=\"1\" class=\"dataframe\">\n",
       "  <thead>\n",
       "    <tr style=\"text-align: right;\">\n",
       "      <th></th>\n",
       "      <th>children</th>\n",
       "      <th>days_employed</th>\n",
       "      <th>dob_years</th>\n",
       "      <th>education</th>\n",
       "      <th>education_id</th>\n",
       "      <th>family_status</th>\n",
       "      <th>family_status_id</th>\n",
       "      <th>gender</th>\n",
       "      <th>income_type</th>\n",
       "      <th>debt</th>\n",
       "      <th>total_income</th>\n",
       "      <th>purpose</th>\n",
       "    </tr>\n",
       "  </thead>\n",
       "  <tbody>\n",
       "    <tr>\n",
       "      <td>0</td>\n",
       "      <td>1</td>\n",
       "      <td>-8437.673028</td>\n",
       "      <td>42</td>\n",
       "      <td>высшее</td>\n",
       "      <td>0</td>\n",
       "      <td>женат / замужем</td>\n",
       "      <td>0</td>\n",
       "      <td>F</td>\n",
       "      <td>сотрудник</td>\n",
       "      <td>0</td>\n",
       "      <td>253875.639453</td>\n",
       "      <td>покупка жилья</td>\n",
       "    </tr>\n",
       "    <tr>\n",
       "      <td>1</td>\n",
       "      <td>1</td>\n",
       "      <td>-4024.803754</td>\n",
       "      <td>36</td>\n",
       "      <td>среднее</td>\n",
       "      <td>1</td>\n",
       "      <td>женат / замужем</td>\n",
       "      <td>0</td>\n",
       "      <td>F</td>\n",
       "      <td>сотрудник</td>\n",
       "      <td>0</td>\n",
       "      <td>112080.014102</td>\n",
       "      <td>приобретение автомобиля</td>\n",
       "    </tr>\n",
       "    <tr>\n",
       "      <td>2</td>\n",
       "      <td>0</td>\n",
       "      <td>-5623.422610</td>\n",
       "      <td>33</td>\n",
       "      <td>Среднее</td>\n",
       "      <td>1</td>\n",
       "      <td>женат / замужем</td>\n",
       "      <td>0</td>\n",
       "      <td>M</td>\n",
       "      <td>сотрудник</td>\n",
       "      <td>0</td>\n",
       "      <td>145885.952297</td>\n",
       "      <td>покупка жилья</td>\n",
       "    </tr>\n",
       "    <tr>\n",
       "      <td>3</td>\n",
       "      <td>3</td>\n",
       "      <td>-4124.747207</td>\n",
       "      <td>32</td>\n",
       "      <td>среднее</td>\n",
       "      <td>1</td>\n",
       "      <td>женат / замужем</td>\n",
       "      <td>0</td>\n",
       "      <td>M</td>\n",
       "      <td>сотрудник</td>\n",
       "      <td>0</td>\n",
       "      <td>267628.550329</td>\n",
       "      <td>дополнительное образование</td>\n",
       "    </tr>\n",
       "    <tr>\n",
       "      <td>4</td>\n",
       "      <td>0</td>\n",
       "      <td>340266.072047</td>\n",
       "      <td>53</td>\n",
       "      <td>среднее</td>\n",
       "      <td>1</td>\n",
       "      <td>гражданский брак</td>\n",
       "      <td>1</td>\n",
       "      <td>F</td>\n",
       "      <td>пенсионер</td>\n",
       "      <td>0</td>\n",
       "      <td>158616.077870</td>\n",
       "      <td>сыграть свадьбу</td>\n",
       "    </tr>\n",
       "    <tr>\n",
       "      <td>...</td>\n",
       "      <td>...</td>\n",
       "      <td>...</td>\n",
       "      <td>...</td>\n",
       "      <td>...</td>\n",
       "      <td>...</td>\n",
       "      <td>...</td>\n",
       "      <td>...</td>\n",
       "      <td>...</td>\n",
       "      <td>...</td>\n",
       "      <td>...</td>\n",
       "      <td>...</td>\n",
       "      <td>...</td>\n",
       "    </tr>\n",
       "    <tr>\n",
       "      <td>21520</td>\n",
       "      <td>1</td>\n",
       "      <td>-4529.316663</td>\n",
       "      <td>43</td>\n",
       "      <td>среднее</td>\n",
       "      <td>1</td>\n",
       "      <td>гражданский брак</td>\n",
       "      <td>1</td>\n",
       "      <td>F</td>\n",
       "      <td>компаньон</td>\n",
       "      <td>0</td>\n",
       "      <td>224791.862382</td>\n",
       "      <td>операции с жильем</td>\n",
       "    </tr>\n",
       "    <tr>\n",
       "      <td>21521</td>\n",
       "      <td>0</td>\n",
       "      <td>343937.404131</td>\n",
       "      <td>67</td>\n",
       "      <td>среднее</td>\n",
       "      <td>1</td>\n",
       "      <td>женат / замужем</td>\n",
       "      <td>0</td>\n",
       "      <td>F</td>\n",
       "      <td>пенсионер</td>\n",
       "      <td>0</td>\n",
       "      <td>155999.806512</td>\n",
       "      <td>сделка с автомобилем</td>\n",
       "    </tr>\n",
       "    <tr>\n",
       "      <td>21522</td>\n",
       "      <td>1</td>\n",
       "      <td>-2113.346888</td>\n",
       "      <td>38</td>\n",
       "      <td>среднее</td>\n",
       "      <td>1</td>\n",
       "      <td>гражданский брак</td>\n",
       "      <td>1</td>\n",
       "      <td>M</td>\n",
       "      <td>сотрудник</td>\n",
       "      <td>1</td>\n",
       "      <td>89672.561153</td>\n",
       "      <td>недвижимость</td>\n",
       "    </tr>\n",
       "    <tr>\n",
       "      <td>21523</td>\n",
       "      <td>3</td>\n",
       "      <td>-3112.481705</td>\n",
       "      <td>38</td>\n",
       "      <td>среднее</td>\n",
       "      <td>1</td>\n",
       "      <td>женат / замужем</td>\n",
       "      <td>0</td>\n",
       "      <td>M</td>\n",
       "      <td>сотрудник</td>\n",
       "      <td>1</td>\n",
       "      <td>244093.050500</td>\n",
       "      <td>на покупку своего автомобиля</td>\n",
       "    </tr>\n",
       "    <tr>\n",
       "      <td>21524</td>\n",
       "      <td>2</td>\n",
       "      <td>-1984.507589</td>\n",
       "      <td>40</td>\n",
       "      <td>среднее</td>\n",
       "      <td>1</td>\n",
       "      <td>женат / замужем</td>\n",
       "      <td>0</td>\n",
       "      <td>F</td>\n",
       "      <td>сотрудник</td>\n",
       "      <td>0</td>\n",
       "      <td>82047.418899</td>\n",
       "      <td>на покупку автомобиля</td>\n",
       "    </tr>\n",
       "  </tbody>\n",
       "</table>\n",
       "<p>21525 rows × 12 columns</p>\n",
       "</div>"
      ],
      "text/plain": [
       "       children  days_employed  dob_years education  education_id  \\\n",
       "0             1   -8437.673028         42    высшее             0   \n",
       "1             1   -4024.803754         36   среднее             1   \n",
       "2             0   -5623.422610         33   Среднее             1   \n",
       "3             3   -4124.747207         32   среднее             1   \n",
       "4             0  340266.072047         53   среднее             1   \n",
       "...         ...            ...        ...       ...           ...   \n",
       "21520         1   -4529.316663         43   среднее             1   \n",
       "21521         0  343937.404131         67   среднее             1   \n",
       "21522         1   -2113.346888         38   среднее             1   \n",
       "21523         3   -3112.481705         38   среднее             1   \n",
       "21524         2   -1984.507589         40   среднее             1   \n",
       "\n",
       "          family_status  family_status_id gender income_type  debt  \\\n",
       "0       женат / замужем                 0      F   сотрудник     0   \n",
       "1       женат / замужем                 0      F   сотрудник     0   \n",
       "2       женат / замужем                 0      M   сотрудник     0   \n",
       "3       женат / замужем                 0      M   сотрудник     0   \n",
       "4      гражданский брак                 1      F   пенсионер     0   \n",
       "...                 ...               ...    ...         ...   ...   \n",
       "21520  гражданский брак                 1      F   компаньон     0   \n",
       "21521   женат / замужем                 0      F   пенсионер     0   \n",
       "21522  гражданский брак                 1      M   сотрудник     1   \n",
       "21523   женат / замужем                 0      M   сотрудник     1   \n",
       "21524   женат / замужем                 0      F   сотрудник     0   \n",
       "\n",
       "        total_income                       purpose  \n",
       "0      253875.639453                 покупка жилья  \n",
       "1      112080.014102       приобретение автомобиля  \n",
       "2      145885.952297                 покупка жилья  \n",
       "3      267628.550329    дополнительное образование  \n",
       "4      158616.077870               сыграть свадьбу  \n",
       "...              ...                           ...  \n",
       "21520  224791.862382             операции с жильем  \n",
       "21521  155999.806512          сделка с автомобилем  \n",
       "21522   89672.561153                  недвижимость  \n",
       "21523  244093.050500  на покупку своего автомобиля  \n",
       "21524   82047.418899         на покупку автомобиля  \n",
       "\n",
       "[21525 rows x 12 columns]"
      ]
     },
     "metadata": {},
     "output_type": "display_data"
    }
   ],
   "source": [
    "# открываем фаил csv\n",
    "import pandas as pd\n",
    "df = pd.read_csv('/datasets/data.csv')\n",
    "display(df)\n",
    "#пользуюсь display(), считаю что втаком виде визуально таблица выглядит лучше"
   ]
  },
  {
   "cell_type": "markdown",
   "id": "61373b1e",
   "metadata": {},
   "source": [
    "### Шаг 2.1 Заполнение пропусков"
   ]
  },
  {
   "cell_type": "code",
   "execution_count": 4,
   "id": "e47fc33f",
   "metadata": {
    "scrolled": true
   },
   "outputs": [
    {
     "name": "stdout",
     "output_type": "stream",
     "text": [
      "<class 'pandas.core.frame.DataFrame'>\n",
      "RangeIndex: 21525 entries, 0 to 21524\n",
      "Data columns (total 12 columns):\n",
      "children            21525 non-null int64\n",
      "days_employed       19351 non-null float64\n",
      "dob_years           21525 non-null int64\n",
      "education           21525 non-null object\n",
      "education_id        21525 non-null int64\n",
      "family_status       21525 non-null object\n",
      "family_status_id    21525 non-null int64\n",
      "gender              21525 non-null object\n",
      "income_type         21525 non-null object\n",
      "debt                21525 non-null int64\n",
      "total_income        19351 non-null float64\n",
      "purpose             21525 non-null object\n",
      "dtypes: float64(2), int64(5), object(5)\n",
      "memory usage: 2.0+ MB\n"
     ]
    }
   ],
   "source": [
    "# выводим информацию о таблице\n",
    "df.info()"
   ]
  },
  {
   "cell_type": "markdown",
   "id": "bccffddf",
   "metadata": {},
   "source": [
    "Описание данных :   \n",
    "·\tchildren — количество детей в семье  \n",
    "·\tdays_employed — общий трудовой стаж в днях  \n",
    "·\tdob_years — возраст клиента в годах  \n",
    "·\teducation — уровень образования клиента  \n",
    "·\teducation_id — идентификатор уровня образования  \n",
    "·\tfamily_status — семейное положение  \n",
    "·\tfamily_status_id — идентификатор семейного положения  \n",
    "·\tgender — пол клиента  \n",
    "·\tincome_type — тип занятости  \n",
    "·\tdebt — имел ли задолженность по возврату кредитов  \n",
    "·\ttotal_income — ежемесячный доход  \n",
    "·\tpurpose — цель получения кредита   \n",
    "\n",
    "Из общей информации данных видно, что в столбцах days_employed и total_income есть пропуски, которые нужно устранить и объяснить причину их появления.  Больше всего нас интересуют столбцы с показателями количества детей в семье, семейное положение, доход и наличие задолженностей по кредиту."
   ]
  },
  {
   "cell_type": "code",
   "execution_count": 5,
   "id": "cf78b91e",
   "metadata": {
    "scrolled": true
   },
   "outputs": [
    {
     "data": {
      "text/plain": [
       "children               0\n",
       "days_employed       2174\n",
       "dob_years              0\n",
       "education              0\n",
       "education_id           0\n",
       "family_status          0\n",
       "family_status_id       0\n",
       "gender                 0\n",
       "income_type            0\n",
       "debt                   0\n",
       "total_income        2174\n",
       "purpose                0\n",
       "dtype: int64"
      ]
     },
     "execution_count": 5,
     "metadata": {},
     "output_type": "execute_result"
    }
   ],
   "source": [
    "# определяем колличество пропусков\n",
    "df.isnull().sum()"
   ]
  },
  {
   "cell_type": "code",
   "execution_count": 6,
   "id": "2e6d6cb5",
   "metadata": {},
   "outputs": [
    {
     "name": "stdout",
     "output_type": "stream",
     "text": [
      "Общее количество сторок: 21525\n",
      "Количество пропусков в столбце days_employed: 2174\n",
      "Количество пропусков в столбце total_income : 2174\n",
      "10.099883855981417 %\n"
     ]
    }
   ],
   "source": [
    "# Применим функцию и посчитаем пропуски в процентах\n",
    "count_df = 0\n",
    "total_count=0\n",
    "wrong_days_employed = 0\n",
    "wrong_total_income = 0\n",
    "for row in df['days_employed']:\n",
    "    try:\n",
    "        count_df+=1\n",
    "        count_nan = int(row)\n",
    "        total_count += count_nan\n",
    "    except:\n",
    "        wrong_days_employed+=1\n",
    "        \n",
    "for row in df['total_income']:\n",
    "    try:\n",
    "        count_nan = int(row)\n",
    "        total_count += count_nan\n",
    "    except:\n",
    "        wrong_total_income+=1        \n",
    "print('Общее количество сторок:',count_df)\n",
    "print('Количество пропусков в столбце days_employed:',wrong_days_employed) \n",
    "print('Количество пропусков в столбце total_income :',wrong_total_income)\n",
    "print(wrong_days_employed/count_df*100,'%')      \n",
    "        "
   ]
  },
  {
   "cell_type": "markdown",
   "id": "6f628477",
   "metadata": {},
   "source": [
    "Вывод:\n",
    "1.В колонках days_employed(общий трудовой стаж в днях) и total_income ( ежемесячный доход) есть пропущенные значения.   \n",
    "\n",
    "2.Общее количество значений в каждом столбце равно 21525 , пропущенных значений в колонках days_employed(общий трудовой стаж в днях) и total_income ( ежемесячный доход) одинаково равно 2174. Что составляет 10% от общего числа значений в колонках.  \n",
    "\n",
    "3.Предположим, что пропуски в этих количественных данных произошли в результате не корректной выгрузки.   \n",
    "\n",
    "\n",
    "\n",
    "\n"
   ]
  },
  {
   "cell_type": "markdown",
   "id": "503f770d",
   "metadata": {},
   "source": [
    "### Шаг 2.2 Проверка данных на аномалии и исправления."
   ]
  },
  {
   "cell_type": "code",
   "execution_count": 7,
   "id": "4c5e7492",
   "metadata": {},
   "outputs": [
    {
     "name": "stdout",
     "output_type": "stream",
     "text": [
      " 0     14149\n",
      " 1      4818\n",
      " 2      2055\n",
      " 3       330\n",
      " 20       76\n",
      "-1        47\n",
      " 4        41\n",
      " 5         9\n",
      "Name: children, dtype: int64\n",
      "-986.927316     1\n",
      "-7026.359174    1\n",
      "-4236.274243    1\n",
      "-6620.396473    1\n",
      "-1238.560080    1\n",
      "               ..\n",
      "-2849.351119    1\n",
      "-5619.328204    1\n",
      "-448.829898     1\n",
      "-1687.038672    1\n",
      "-582.538413     1\n",
      "Name: days_employed, Length: 19351, dtype: int64\n",
      "35    617\n",
      "40    609\n",
      "41    607\n",
      "34    603\n",
      "38    598\n",
      "42    597\n",
      "33    581\n",
      "39    573\n",
      "31    560\n",
      "36    555\n",
      "44    547\n",
      "29    545\n",
      "30    540\n",
      "48    538\n",
      "37    537\n",
      "50    514\n",
      "43    513\n",
      "32    510\n",
      "49    508\n",
      "28    503\n",
      "45    497\n",
      "27    493\n",
      "56    487\n",
      "52    484\n",
      "47    480\n",
      "54    479\n",
      "46    475\n",
      "58    461\n",
      "57    460\n",
      "53    459\n",
      "51    448\n",
      "59    444\n",
      "55    443\n",
      "26    408\n",
      "60    377\n",
      "25    357\n",
      "61    355\n",
      "62    352\n",
      "63    269\n",
      "64    265\n",
      "24    264\n",
      "23    254\n",
      "65    194\n",
      "66    183\n",
      "22    183\n",
      "67    167\n",
      "21    111\n",
      "0     101\n",
      "68     99\n",
      "69     85\n",
      "70     65\n",
      "71     58\n",
      "20     51\n",
      "72     33\n",
      "19     14\n",
      "73      8\n",
      "74      6\n",
      "75      1\n",
      "Name: dob_years, dtype: int64\n",
      "среднее                13750\n",
      "высшее                  4718\n",
      "СРЕДНЕЕ                  772\n",
      "Среднее                  711\n",
      "неоконченное высшее      668\n",
      "ВЫСШЕЕ                   274\n",
      "Высшее                   268\n",
      "начальное                250\n",
      "Неоконченное высшее       47\n",
      "НЕОКОНЧЕННОЕ ВЫСШЕЕ       29\n",
      "НАЧАЛЬНОЕ                 17\n",
      "Начальное                 15\n",
      "ученая степень             4\n",
      "Ученая степень             1\n",
      "УЧЕНАЯ СТЕПЕНЬ             1\n",
      "Name: education, dtype: int64\n",
      "1    15233\n",
      "0     5260\n",
      "2      744\n",
      "3      282\n",
      "4        6\n",
      "Name: education_id, dtype: int64\n",
      "женат / замужем          12380\n",
      "гражданский брак          4177\n",
      "Не женат / не замужем     2813\n",
      "в разводе                 1195\n",
      "вдовец / вдова             960\n",
      "Name: family_status, dtype: int64\n",
      "0    12380\n",
      "1     4177\n",
      "4     2813\n",
      "3     1195\n",
      "2      960\n",
      "Name: family_status_id, dtype: int64\n",
      "F      14236\n",
      "M       7288\n",
      "XNA        1\n",
      "Name: gender, dtype: int64\n",
      "сотрудник          11119\n",
      "компаньон           5085\n",
      "пенсионер           3856\n",
      "госслужащий         1459\n",
      "безработный            2\n",
      "предприниматель        2\n",
      "студент                1\n",
      "в декрете              1\n",
      "Name: income_type, dtype: int64\n",
      "0    19784\n",
      "1     1741\n",
      "Name: debt, dtype: int64\n",
      "112874.418757    1\n",
      "133912.272223    1\n",
      "182036.676828    1\n",
      "122421.963500    1\n",
      "198271.837248    1\n",
      "                ..\n",
      "133299.194693    1\n",
      "115080.782380    1\n",
      "84896.781597     1\n",
      "153838.839212    1\n",
      "150014.128510    1\n",
      "Name: total_income, Length: 19351, dtype: int64\n",
      "свадьба                                   797\n",
      "на проведение свадьбы                     777\n",
      "сыграть свадьбу                           774\n",
      "операции с недвижимостью                  676\n",
      "покупка коммерческой недвижимости         664\n",
      "покупка жилья для сдачи                   653\n",
      "операции с жильем                         653\n",
      "операции с коммерческой недвижимостью     651\n",
      "жилье                                     647\n",
      "покупка жилья                             647\n",
      "покупка жилья для семьи                   641\n",
      "строительство собственной недвижимости    635\n",
      "недвижимость                              634\n",
      "операции со своей недвижимостью           630\n",
      "строительство жилой недвижимости          626\n",
      "покупка недвижимости                      624\n",
      "строительство недвижимости                620\n",
      "покупка своего жилья                      620\n",
      "ремонт жилью                              612\n",
      "покупка жилой недвижимости                607\n",
      "на покупку своего автомобиля              505\n",
      "заняться высшим образованием              496\n",
      "автомобиль                                495\n",
      "сделка с подержанным автомобилем          489\n",
      "свой автомобиль                           480\n",
      "на покупку подержанного автомобиля        479\n",
      "автомобили                                478\n",
      "на покупку автомобиля                     472\n",
      "дополнительное образование                462\n",
      "приобретение автомобиля                   462\n",
      "сделка с автомобилем                      455\n",
      "высшее образование                        453\n",
      "получение дополнительного образования     447\n",
      "образование                               447\n",
      "получение образования                     443\n",
      "профильное образование                    436\n",
      "получение высшего образования             426\n",
      "заняться образованием                     412\n",
      "Name: purpose, dtype: int64\n"
     ]
    }
   ],
   "source": [
    "#Проверка аномалий \n",
    "for row in df: \n",
    "    print(df[row].value_counts())"
   ]
  },
  {
   "cell_type": "markdown",
   "id": "dda9a09e",
   "metadata": {},
   "source": [
    "Изучив уникальные значения столбцов, можно сделать вывод:  \n",
    "*столбец children  значение -1 и 20. Поменять на 1 и 2   \n",
    "*столбец days_employed пропуски.Значения отрицательные и положительные, адекватной корректировке не подаются, для исследования не   имеют ценности.Столбец можно удалить.  \n",
    "*столбец dob_years нулевое значение. Удаляем значение.  \n",
    "*столбец education дубликаты названий, значения в разных регистрах.Приводим к единому регистру.  \n",
    "*столбец gender есть пропущенные данные. Строка одна, удаляем.  \n",
    "*столбец total_income пропущенные значения.Меняем на медианну т.к. оно более стабильно.  \n",
    "*столбец purpose похожие по смыслу значения.Групперуем.   \n",
    "Причины появления таких данных различны: опечатки, разный способ внесения значений,ошибка при выгрузке данных.  "
   ]
  },
  {
   "cell_type": "code",
   "execution_count": 8,
   "id": "0fe03b5c",
   "metadata": {},
   "outputs": [
    {
     "data": {
      "text/plain": [
       "0        1\n",
       "1        1\n",
       "2        0\n",
       "3        3\n",
       "4        0\n",
       "        ..\n",
       "21520    1\n",
       "21521    0\n",
       "21522    1\n",
       "21523    3\n",
       "21524    2\n",
       "Name: children, Length: 21525, dtype: int64"
      ]
     },
     "metadata": {},
     "output_type": "display_data"
    }
   ],
   "source": [
    "#Исправляем данные в столбеце children, меняем значение -1 на 1 и 20 на 2\n",
    "df['children'] = df['children'].replace(20, 2)\n",
    "df['children'] = df['children'].replace(-1, 1)\n",
    "df['children'] = df['children'].fillna(0)\n",
    "display(df['children'])"
   ]
  },
  {
   "cell_type": "code",
   "execution_count": 9,
   "id": "fefff839",
   "metadata": {
    "scrolled": false
   },
   "outputs": [],
   "source": [
    "# Удаляем столбец days_employed\n",
    "df = df.drop(['days_employed'], axis = 1)"
   ]
  },
  {
   "cell_type": "markdown",
   "id": "d41c9aff",
   "metadata": {},
   "source": [
    "Непойму почему удалённый столбец появляется вновь?"
   ]
  },
  {
   "cell_type": "code",
   "execution_count": 10,
   "id": "832a4054",
   "metadata": {},
   "outputs": [
    {
     "data": {
      "text/plain": [
       "19"
      ]
     },
     "execution_count": 10,
     "metadata": {},
     "output_type": "execute_result"
    }
   ],
   "source": [
    "# Исправляем столбец dob_years\n",
    "df = df.drop(df[df['dob_years']==0].index)\n",
    "#проверяем\n",
    "df['dob_years'].min()"
   ]
  },
  {
   "cell_type": "code",
   "execution_count": 11,
   "id": "2dc78e92",
   "metadata": {},
   "outputs": [
    {
     "data": {
      "text/plain": [
       "F    14164\n",
       "M     7259\n",
       "Name: gender, dtype: int64"
      ]
     },
     "execution_count": 11,
     "metadata": {},
     "output_type": "execute_result"
    }
   ],
   "source": [
    "#удаляем одно не верное значение в столбце gender\n",
    "df = df.drop(df[df['gender']== 'XNA'].index)\n",
    "#проверяем\n",
    "df['gender'].value_counts()"
   ]
  },
  {
   "cell_type": "markdown",
   "id": "330cc26b",
   "metadata": {},
   "source": [
    "### Шаг 2.3. Изменение типов данных."
   ]
  },
  {
   "cell_type": "code",
   "execution_count": 12,
   "id": "c8d7c9b9",
   "metadata": {
    "scrolled": true
   },
   "outputs": [
    {
     "data": {
      "text/plain": [
       "0        253875.639453\n",
       "1        112080.014102\n",
       "2        145885.952297\n",
       "3        267628.550329\n",
       "4        158616.077870\n",
       "             ...      \n",
       "21520    224791.862382\n",
       "21521    155999.806512\n",
       "21522     89672.561153\n",
       "21523    244093.050500\n",
       "21524     82047.418899\n",
       "Name: total_income, Length: 21423, dtype: float64"
      ]
     },
     "metadata": {},
     "output_type": "display_data"
    }
   ],
   "source": [
    "# Заполняем медианным значение пропуски в столбце total_income\n",
    "df['total_income'] = df['total_income'].fillna(df.groupby('income_type')['total_income'].transform('median'))\n",
    "display(df['total_income'])"
   ]
  },
  {
   "cell_type": "code",
   "execution_count": 13,
   "id": "a1920e47",
   "metadata": {},
   "outputs": [
    {
     "data": {
      "text/plain": [
       "0        253875\n",
       "1        112080\n",
       "2        145885\n",
       "3        267628\n",
       "4        158616\n",
       "          ...  \n",
       "21520    224791\n",
       "21521    155999\n",
       "21522     89672\n",
       "21523    244093\n",
       "21524     82047\n",
       "Name: total_income, Length: 21423, dtype: int64"
      ]
     },
     "metadata": {},
     "output_type": "display_data"
    }
   ],
   "source": [
    "#заменяем вещественный тип данных в столбце total_income на целочисленный\n",
    "df['total_income'] = df['total_income'].astype('int64')\n",
    "display(df['total_income'])"
   ]
  },
  {
   "cell_type": "markdown",
   "id": "0fb3f356",
   "metadata": {},
   "source": [
    "### Шаг 2.4. Удаление дубликатов."
   ]
  },
  {
   "cell_type": "code",
   "execution_count": 14,
   "id": "c604c372",
   "metadata": {
    "scrolled": true
   },
   "outputs": [
    {
     "data": {
      "text/plain": [
       "54"
      ]
     },
     "execution_count": 14,
     "metadata": {},
     "output_type": "execute_result"
    }
   ],
   "source": [
    "# для начала узнаем количество дубликатов\n",
    "df.duplicated().sum()"
   ]
  },
  {
   "cell_type": "code",
   "execution_count": 15,
   "id": "96e327f1",
   "metadata": {},
   "outputs": [
    {
     "data": {
      "text/plain": [
       "среднее                13691\n",
       "высшее                  4686\n",
       "СРЕДНЕЕ                  770\n",
       "Среднее                  708\n",
       "неоконченное высшее      665\n",
       "ВЫСШЕЕ                   273\n",
       "Высшее                   266\n",
       "начальное                250\n",
       "Неоконченное высшее       47\n",
       "НЕОКОНЧЕННОЕ ВЫСШЕЕ       29\n",
       "НАЧАЛЬНОЕ                 17\n",
       "Начальное                 15\n",
       "ученая степень             4\n",
       "Ученая степень             1\n",
       "УЧЕНАЯ СТЕПЕНЬ             1\n",
       "Name: education, dtype: int64"
      ]
     },
     "execution_count": 15,
     "metadata": {},
     "output_type": "execute_result"
    }
   ],
   "source": [
    "#Проверяем столбец education\n",
    "df['education'].value_counts()"
   ]
  },
  {
   "cell_type": "code",
   "execution_count": 16,
   "id": "cec64bd9",
   "metadata": {},
   "outputs": [],
   "source": [
    "# приводим к нижнему регистру\n",
    "df['education'] = df['education'].str.lower()\n",
    "\n",
    "\n"
   ]
  },
  {
   "cell_type": "code",
   "execution_count": 17,
   "id": "bdc18102",
   "metadata": {},
   "outputs": [],
   "source": [
    "#Удаляем дубликаты\n",
    "df = df.drop_duplicates().reset_index(drop= True)"
   ]
  },
  {
   "cell_type": "code",
   "execution_count": 18,
   "id": "4574e3b0",
   "metadata": {},
   "outputs": [
    {
     "data": {
      "text/plain": [
       "0"
      ]
     },
     "execution_count": 18,
     "metadata": {},
     "output_type": "execute_result"
    }
   ],
   "source": [
    "#Проверяем df\n",
    "df.duplicated().sum()"
   ]
  },
  {
   "cell_type": "markdown",
   "id": "a90b4674",
   "metadata": {},
   "source": [
    " Дубликаты удалили с помощью метода .drop_duplicates() вместе с reset_index(drop= True), чтобы в индексах небыло пропусков после удаления. Для поиска дубелей в столбце использовали метод value_counts() т.к он возвращает список и количество дублей.  Возможные причины появления дублей:неправильное соединение данных из разных источников, ошибки пользователя при занесении информации.  \n",
    " Результат проверки df вернул нам \"0\", это значит что дубликатов больше нет."
   ]
  },
  {
   "cell_type": "markdown",
   "id": "d00a6000",
   "metadata": {},
   "source": [
    "### Шаг 2.5. Формирование дополнительных датафреймов словарей, декомпозиция исходного датафрейма."
   ]
  },
  {
   "cell_type": "code",
   "execution_count": 19,
   "id": "0182f4a1",
   "metadata": {},
   "outputs": [
    {
     "data": {
      "text/html": [
       "<div>\n",
       "<style scoped>\n",
       "    .dataframe tbody tr th:only-of-type {\n",
       "        vertical-align: middle;\n",
       "    }\n",
       "\n",
       "    .dataframe tbody tr th {\n",
       "        vertical-align: top;\n",
       "    }\n",
       "\n",
       "    .dataframe thead th {\n",
       "        text-align: right;\n",
       "    }\n",
       "</style>\n",
       "<table border=\"1\" class=\"dataframe\">\n",
       "  <thead>\n",
       "    <tr style=\"text-align: right;\">\n",
       "      <th></th>\n",
       "      <th>education_id</th>\n",
       "      <th>education</th>\n",
       "    </tr>\n",
       "  </thead>\n",
       "  <tbody>\n",
       "    <tr>\n",
       "      <td>0</td>\n",
       "      <td>0</td>\n",
       "      <td>высшее</td>\n",
       "    </tr>\n",
       "    <tr>\n",
       "      <td>1</td>\n",
       "      <td>1</td>\n",
       "      <td>среднее</td>\n",
       "    </tr>\n",
       "    <tr>\n",
       "      <td>2</td>\n",
       "      <td>2</td>\n",
       "      <td>неоконченное высшее</td>\n",
       "    </tr>\n",
       "    <tr>\n",
       "      <td>3</td>\n",
       "      <td>3</td>\n",
       "      <td>начальное</td>\n",
       "    </tr>\n",
       "    <tr>\n",
       "      <td>4</td>\n",
       "      <td>4</td>\n",
       "      <td>ученая степень</td>\n",
       "    </tr>\n",
       "  </tbody>\n",
       "</table>\n",
       "</div>"
      ],
      "text/plain": [
       "   education_id            education\n",
       "0             0               высшее\n",
       "1             1              среднее\n",
       "2             2  неоконченное высшее\n",
       "3             3            начальное\n",
       "4             4       ученая степень"
      ]
     },
     "metadata": {},
     "output_type": "display_data"
    }
   ],
   "source": [
    "#Создаём дополнительные датафреймы\n",
    "education_dict = df[['education_id', 'education']]\n",
    "education_dict = education_dict.drop_duplicates().reset_index(drop=True)\n",
    "display(education_dict)"
   ]
  },
  {
   "cell_type": "code",
   "execution_count": 20,
   "id": "74dabb16",
   "metadata": {},
   "outputs": [
    {
     "data": {
      "text/html": [
       "<div>\n",
       "<style scoped>\n",
       "    .dataframe tbody tr th:only-of-type {\n",
       "        vertical-align: middle;\n",
       "    }\n",
       "\n",
       "    .dataframe tbody tr th {\n",
       "        vertical-align: top;\n",
       "    }\n",
       "\n",
       "    .dataframe thead th {\n",
       "        text-align: right;\n",
       "    }\n",
       "</style>\n",
       "<table border=\"1\" class=\"dataframe\">\n",
       "  <thead>\n",
       "    <tr style=\"text-align: right;\">\n",
       "      <th></th>\n",
       "      <th>family_status_id</th>\n",
       "      <th>family_status</th>\n",
       "    </tr>\n",
       "  </thead>\n",
       "  <tbody>\n",
       "    <tr>\n",
       "      <td>0</td>\n",
       "      <td>0</td>\n",
       "      <td>женат / замужем</td>\n",
       "    </tr>\n",
       "    <tr>\n",
       "      <td>1</td>\n",
       "      <td>1</td>\n",
       "      <td>гражданский брак</td>\n",
       "    </tr>\n",
       "    <tr>\n",
       "      <td>2</td>\n",
       "      <td>2</td>\n",
       "      <td>вдовец / вдова</td>\n",
       "    </tr>\n",
       "    <tr>\n",
       "      <td>3</td>\n",
       "      <td>3</td>\n",
       "      <td>в разводе</td>\n",
       "    </tr>\n",
       "    <tr>\n",
       "      <td>4</td>\n",
       "      <td>4</td>\n",
       "      <td>Не женат / не замужем</td>\n",
       "    </tr>\n",
       "  </tbody>\n",
       "</table>\n",
       "</div>"
      ],
      "text/plain": [
       "   family_status_id          family_status\n",
       "0                 0        женат / замужем\n",
       "1                 1       гражданский брак\n",
       "2                 2         вдовец / вдова\n",
       "3                 3              в разводе\n",
       "4                 4  Не женат / не замужем"
      ]
     },
     "metadata": {},
     "output_type": "display_data"
    }
   ],
   "source": [
    "education_dict = df[['family_status_id', 'family_status']]\n",
    "education_dict = education_dict.drop_duplicates().reset_index(drop=True)\n",
    "display(education_dict)"
   ]
  },
  {
   "cell_type": "code",
   "execution_count": 21,
   "id": "0eb3eacb",
   "metadata": {},
   "outputs": [],
   "source": [
    "#Удаляем столбцы 'education'и'family_status'\n",
    "df = df.drop(['education','family_status'], axis = 1)\n"
   ]
  },
  {
   "cell_type": "markdown",
   "id": "4faac96b",
   "metadata": {},
   "source": [
    "Тут тоже непонятно, удалёные столбцы появятся вновь."
   ]
  },
  {
   "cell_type": "markdown",
   "id": "9d4e0f87",
   "metadata": {},
   "source": [
    "### Шаг 2.6. Категоризация дохода."
   ]
  },
  {
   "cell_type": "code",
   "execution_count": 22,
   "id": "0128b129",
   "metadata": {},
   "outputs": [
    {
     "name": "stdout",
     "output_type": "stream",
     "text": [
      "E\n"
     ]
    }
   ],
   "source": [
    "# создаём новый столбец total_income_category в котором мы назначаем категории кредитополучателю исходя из его дохода:\n",
    "#·0–30000 — 'E';\n",
    "#·30001–50000 — 'D';\n",
    "#·50001–200000 — 'C';\n",
    "#·200001–1000000 — 'B';\n",
    "#·1000001 и выше — 'A'.\n",
    "\n",
    "\n",
    "def total_income_category(total_income):\n",
    "    if total_income <= 30000:\n",
    "        return 'E'\n",
    "    if total_income <= 50000:\n",
    "        return 'D'\n",
    "    if total_income <= 200000:\n",
    "        return 'C'\n",
    "    if total_income <= 1000000:\n",
    "        return 'B'\n",
    "    return 'A'\n",
    "\n",
    "#проверяем\n",
    "\n",
    "print(total_income_category(25000))\n",
    "\n",
    "\n"
   ]
  },
  {
   "cell_type": "code",
   "execution_count": 23,
   "id": "4fc71f5a",
   "metadata": {},
   "outputs": [
    {
     "data": {
      "text/html": [
       "<div>\n",
       "<style scoped>\n",
       "    .dataframe tbody tr th:only-of-type {\n",
       "        vertical-align: middle;\n",
       "    }\n",
       "\n",
       "    .dataframe tbody tr th {\n",
       "        vertical-align: top;\n",
       "    }\n",
       "\n",
       "    .dataframe thead th {\n",
       "        text-align: right;\n",
       "    }\n",
       "</style>\n",
       "<table border=\"1\" class=\"dataframe\">\n",
       "  <thead>\n",
       "    <tr style=\"text-align: right;\">\n",
       "      <th></th>\n",
       "      <th>children</th>\n",
       "      <th>dob_years</th>\n",
       "      <th>education_id</th>\n",
       "      <th>family_status_id</th>\n",
       "      <th>gender</th>\n",
       "      <th>income_type</th>\n",
       "      <th>debt</th>\n",
       "      <th>total_income</th>\n",
       "      <th>purpose</th>\n",
       "      <th>total_income_category</th>\n",
       "    </tr>\n",
       "  </thead>\n",
       "  <tbody>\n",
       "    <tr>\n",
       "      <td>0</td>\n",
       "      <td>1</td>\n",
       "      <td>42</td>\n",
       "      <td>0</td>\n",
       "      <td>0</td>\n",
       "      <td>F</td>\n",
       "      <td>сотрудник</td>\n",
       "      <td>0</td>\n",
       "      <td>253875</td>\n",
       "      <td>покупка жилья</td>\n",
       "      <td>B</td>\n",
       "    </tr>\n",
       "    <tr>\n",
       "      <td>1</td>\n",
       "      <td>1</td>\n",
       "      <td>36</td>\n",
       "      <td>1</td>\n",
       "      <td>0</td>\n",
       "      <td>F</td>\n",
       "      <td>сотрудник</td>\n",
       "      <td>0</td>\n",
       "      <td>112080</td>\n",
       "      <td>приобретение автомобиля</td>\n",
       "      <td>C</td>\n",
       "    </tr>\n",
       "    <tr>\n",
       "      <td>2</td>\n",
       "      <td>0</td>\n",
       "      <td>33</td>\n",
       "      <td>1</td>\n",
       "      <td>0</td>\n",
       "      <td>M</td>\n",
       "      <td>сотрудник</td>\n",
       "      <td>0</td>\n",
       "      <td>145885</td>\n",
       "      <td>покупка жилья</td>\n",
       "      <td>C</td>\n",
       "    </tr>\n",
       "    <tr>\n",
       "      <td>3</td>\n",
       "      <td>3</td>\n",
       "      <td>32</td>\n",
       "      <td>1</td>\n",
       "      <td>0</td>\n",
       "      <td>M</td>\n",
       "      <td>сотрудник</td>\n",
       "      <td>0</td>\n",
       "      <td>267628</td>\n",
       "      <td>дополнительное образование</td>\n",
       "      <td>B</td>\n",
       "    </tr>\n",
       "    <tr>\n",
       "      <td>4</td>\n",
       "      <td>0</td>\n",
       "      <td>53</td>\n",
       "      <td>1</td>\n",
       "      <td>1</td>\n",
       "      <td>F</td>\n",
       "      <td>пенсионер</td>\n",
       "      <td>0</td>\n",
       "      <td>158616</td>\n",
       "      <td>сыграть свадьбу</td>\n",
       "      <td>C</td>\n",
       "    </tr>\n",
       "    <tr>\n",
       "      <td>...</td>\n",
       "      <td>...</td>\n",
       "      <td>...</td>\n",
       "      <td>...</td>\n",
       "      <td>...</td>\n",
       "      <td>...</td>\n",
       "      <td>...</td>\n",
       "      <td>...</td>\n",
       "      <td>...</td>\n",
       "      <td>...</td>\n",
       "      <td>...</td>\n",
       "    </tr>\n",
       "    <tr>\n",
       "      <td>21347</td>\n",
       "      <td>1</td>\n",
       "      <td>43</td>\n",
       "      <td>1</td>\n",
       "      <td>1</td>\n",
       "      <td>F</td>\n",
       "      <td>компаньон</td>\n",
       "      <td>0</td>\n",
       "      <td>224791</td>\n",
       "      <td>операции с жильем</td>\n",
       "      <td>B</td>\n",
       "    </tr>\n",
       "    <tr>\n",
       "      <td>21348</td>\n",
       "      <td>0</td>\n",
       "      <td>67</td>\n",
       "      <td>1</td>\n",
       "      <td>0</td>\n",
       "      <td>F</td>\n",
       "      <td>пенсионер</td>\n",
       "      <td>0</td>\n",
       "      <td>155999</td>\n",
       "      <td>сделка с автомобилем</td>\n",
       "      <td>C</td>\n",
       "    </tr>\n",
       "    <tr>\n",
       "      <td>21349</td>\n",
       "      <td>1</td>\n",
       "      <td>38</td>\n",
       "      <td>1</td>\n",
       "      <td>1</td>\n",
       "      <td>M</td>\n",
       "      <td>сотрудник</td>\n",
       "      <td>1</td>\n",
       "      <td>89672</td>\n",
       "      <td>недвижимость</td>\n",
       "      <td>C</td>\n",
       "    </tr>\n",
       "    <tr>\n",
       "      <td>21350</td>\n",
       "      <td>3</td>\n",
       "      <td>38</td>\n",
       "      <td>1</td>\n",
       "      <td>0</td>\n",
       "      <td>M</td>\n",
       "      <td>сотрудник</td>\n",
       "      <td>1</td>\n",
       "      <td>244093</td>\n",
       "      <td>на покупку своего автомобиля</td>\n",
       "      <td>B</td>\n",
       "    </tr>\n",
       "    <tr>\n",
       "      <td>21351</td>\n",
       "      <td>2</td>\n",
       "      <td>40</td>\n",
       "      <td>1</td>\n",
       "      <td>0</td>\n",
       "      <td>F</td>\n",
       "      <td>сотрудник</td>\n",
       "      <td>0</td>\n",
       "      <td>82047</td>\n",
       "      <td>на покупку автомобиля</td>\n",
       "      <td>C</td>\n",
       "    </tr>\n",
       "  </tbody>\n",
       "</table>\n",
       "<p>21352 rows × 10 columns</p>\n",
       "</div>"
      ],
      "text/plain": [
       "       children  dob_years  education_id  family_status_id gender income_type  \\\n",
       "0             1         42             0                 0      F   сотрудник   \n",
       "1             1         36             1                 0      F   сотрудник   \n",
       "2             0         33             1                 0      M   сотрудник   \n",
       "3             3         32             1                 0      M   сотрудник   \n",
       "4             0         53             1                 1      F   пенсионер   \n",
       "...         ...        ...           ...               ...    ...         ...   \n",
       "21347         1         43             1                 1      F   компаньон   \n",
       "21348         0         67             1                 0      F   пенсионер   \n",
       "21349         1         38             1                 1      M   сотрудник   \n",
       "21350         3         38             1                 0      M   сотрудник   \n",
       "21351         2         40             1                 0      F   сотрудник   \n",
       "\n",
       "       debt  total_income                       purpose total_income_category  \n",
       "0         0        253875                 покупка жилья                     B  \n",
       "1         0        112080       приобретение автомобиля                     C  \n",
       "2         0        145885                 покупка жилья                     C  \n",
       "3         0        267628    дополнительное образование                     B  \n",
       "4         0        158616               сыграть свадьбу                     C  \n",
       "...     ...           ...                           ...                   ...  \n",
       "21347     0        224791             операции с жильем                     B  \n",
       "21348     0        155999          сделка с автомобилем                     C  \n",
       "21349     1         89672                  недвижимость                     C  \n",
       "21350     1        244093  на покупку своего автомобиля                     B  \n",
       "21351     0         82047         на покупку автомобиля                     C  \n",
       "\n",
       "[21352 rows x 10 columns]"
      ]
     },
     "metadata": {},
     "output_type": "display_data"
    }
   ],
   "source": [
    "#Записываем заначения в ячейки методом appiy\n",
    "df['total_income_category'] = df['total_income'].apply(total_income_category)\n",
    "display(df)"
   ]
  },
  {
   "cell_type": "markdown",
   "id": "99bb643b",
   "metadata": {},
   "source": [
    "### Шаг 2.7. Категоризация целей кредита."
   ]
  },
  {
   "cell_type": "code",
   "execution_count": 29,
   "id": "50f2a7e2",
   "metadata": {},
   "outputs": [
    {
     "data": {
      "text/html": [
       "<div>\n",
       "<style scoped>\n",
       "    .dataframe tbody tr th:only-of-type {\n",
       "        vertical-align: middle;\n",
       "    }\n",
       "\n",
       "    .dataframe tbody tr th {\n",
       "        vertical-align: top;\n",
       "    }\n",
       "\n",
       "    .dataframe thead th {\n",
       "        text-align: right;\n",
       "    }\n",
       "</style>\n",
       "<table border=\"1\" class=\"dataframe\">\n",
       "  <thead>\n",
       "    <tr style=\"text-align: right;\">\n",
       "      <th></th>\n",
       "      <th>children</th>\n",
       "      <th>dob_years</th>\n",
       "      <th>education_id</th>\n",
       "      <th>family_status_id</th>\n",
       "      <th>gender</th>\n",
       "      <th>income_type</th>\n",
       "      <th>debt</th>\n",
       "      <th>total_income</th>\n",
       "      <th>purpose</th>\n",
       "      <th>total_income_category</th>\n",
       "      <th>purpose_new</th>\n",
       "    </tr>\n",
       "  </thead>\n",
       "  <tbody>\n",
       "    <tr>\n",
       "      <td>0</td>\n",
       "      <td>1</td>\n",
       "      <td>42</td>\n",
       "      <td>0</td>\n",
       "      <td>0</td>\n",
       "      <td>F</td>\n",
       "      <td>сотрудник</td>\n",
       "      <td>0</td>\n",
       "      <td>253875</td>\n",
       "      <td>покупка жилья</td>\n",
       "      <td>B</td>\n",
       "      <td>операции с недвижимостью</td>\n",
       "    </tr>\n",
       "    <tr>\n",
       "      <td>1</td>\n",
       "      <td>1</td>\n",
       "      <td>36</td>\n",
       "      <td>1</td>\n",
       "      <td>0</td>\n",
       "      <td>F</td>\n",
       "      <td>сотрудник</td>\n",
       "      <td>0</td>\n",
       "      <td>112080</td>\n",
       "      <td>приобретение автомобиля</td>\n",
       "      <td>C</td>\n",
       "      <td>операции с автомобилем</td>\n",
       "    </tr>\n",
       "    <tr>\n",
       "      <td>2</td>\n",
       "      <td>0</td>\n",
       "      <td>33</td>\n",
       "      <td>1</td>\n",
       "      <td>0</td>\n",
       "      <td>M</td>\n",
       "      <td>сотрудник</td>\n",
       "      <td>0</td>\n",
       "      <td>145885</td>\n",
       "      <td>покупка жилья</td>\n",
       "      <td>C</td>\n",
       "      <td>операции с недвижимостью</td>\n",
       "    </tr>\n",
       "    <tr>\n",
       "      <td>3</td>\n",
       "      <td>3</td>\n",
       "      <td>32</td>\n",
       "      <td>1</td>\n",
       "      <td>0</td>\n",
       "      <td>M</td>\n",
       "      <td>сотрудник</td>\n",
       "      <td>0</td>\n",
       "      <td>267628</td>\n",
       "      <td>дополнительное образование</td>\n",
       "      <td>B</td>\n",
       "      <td>получение образования</td>\n",
       "    </tr>\n",
       "    <tr>\n",
       "      <td>4</td>\n",
       "      <td>0</td>\n",
       "      <td>53</td>\n",
       "      <td>1</td>\n",
       "      <td>1</td>\n",
       "      <td>F</td>\n",
       "      <td>пенсионер</td>\n",
       "      <td>0</td>\n",
       "      <td>158616</td>\n",
       "      <td>сыграть свадьбу</td>\n",
       "      <td>C</td>\n",
       "      <td>проведение свадьбы</td>\n",
       "    </tr>\n",
       "    <tr>\n",
       "      <td>...</td>\n",
       "      <td>...</td>\n",
       "      <td>...</td>\n",
       "      <td>...</td>\n",
       "      <td>...</td>\n",
       "      <td>...</td>\n",
       "      <td>...</td>\n",
       "      <td>...</td>\n",
       "      <td>...</td>\n",
       "      <td>...</td>\n",
       "      <td>...</td>\n",
       "      <td>...</td>\n",
       "    </tr>\n",
       "    <tr>\n",
       "      <td>21347</td>\n",
       "      <td>1</td>\n",
       "      <td>43</td>\n",
       "      <td>1</td>\n",
       "      <td>1</td>\n",
       "      <td>F</td>\n",
       "      <td>компаньон</td>\n",
       "      <td>0</td>\n",
       "      <td>224791</td>\n",
       "      <td>операции с жильем</td>\n",
       "      <td>B</td>\n",
       "      <td>операции с недвижимостью</td>\n",
       "    </tr>\n",
       "    <tr>\n",
       "      <td>21348</td>\n",
       "      <td>0</td>\n",
       "      <td>67</td>\n",
       "      <td>1</td>\n",
       "      <td>0</td>\n",
       "      <td>F</td>\n",
       "      <td>пенсионер</td>\n",
       "      <td>0</td>\n",
       "      <td>155999</td>\n",
       "      <td>сделка с автомобилем</td>\n",
       "      <td>C</td>\n",
       "      <td>операции с автомобилем</td>\n",
       "    </tr>\n",
       "    <tr>\n",
       "      <td>21349</td>\n",
       "      <td>1</td>\n",
       "      <td>38</td>\n",
       "      <td>1</td>\n",
       "      <td>1</td>\n",
       "      <td>M</td>\n",
       "      <td>сотрудник</td>\n",
       "      <td>1</td>\n",
       "      <td>89672</td>\n",
       "      <td>недвижимость</td>\n",
       "      <td>C</td>\n",
       "      <td>операции с недвижимостью</td>\n",
       "    </tr>\n",
       "    <tr>\n",
       "      <td>21350</td>\n",
       "      <td>3</td>\n",
       "      <td>38</td>\n",
       "      <td>1</td>\n",
       "      <td>0</td>\n",
       "      <td>M</td>\n",
       "      <td>сотрудник</td>\n",
       "      <td>1</td>\n",
       "      <td>244093</td>\n",
       "      <td>на покупку своего автомобиля</td>\n",
       "      <td>B</td>\n",
       "      <td>операции с автомобилем</td>\n",
       "    </tr>\n",
       "    <tr>\n",
       "      <td>21351</td>\n",
       "      <td>2</td>\n",
       "      <td>40</td>\n",
       "      <td>1</td>\n",
       "      <td>0</td>\n",
       "      <td>F</td>\n",
       "      <td>сотрудник</td>\n",
       "      <td>0</td>\n",
       "      <td>82047</td>\n",
       "      <td>на покупку автомобиля</td>\n",
       "      <td>C</td>\n",
       "      <td>операции с автомобилем</td>\n",
       "    </tr>\n",
       "  </tbody>\n",
       "</table>\n",
       "<p>21352 rows × 11 columns</p>\n",
       "</div>"
      ],
      "text/plain": [
       "       children  dob_years  education_id  family_status_id gender income_type  \\\n",
       "0             1         42             0                 0      F   сотрудник   \n",
       "1             1         36             1                 0      F   сотрудник   \n",
       "2             0         33             1                 0      M   сотрудник   \n",
       "3             3         32             1                 0      M   сотрудник   \n",
       "4             0         53             1                 1      F   пенсионер   \n",
       "...         ...        ...           ...               ...    ...         ...   \n",
       "21347         1         43             1                 1      F   компаньон   \n",
       "21348         0         67             1                 0      F   пенсионер   \n",
       "21349         1         38             1                 1      M   сотрудник   \n",
       "21350         3         38             1                 0      M   сотрудник   \n",
       "21351         2         40             1                 0      F   сотрудник   \n",
       "\n",
       "       debt  total_income                       purpose total_income_category  \\\n",
       "0         0        253875                 покупка жилья                     B   \n",
       "1         0        112080       приобретение автомобиля                     C   \n",
       "2         0        145885                 покупка жилья                     C   \n",
       "3         0        267628    дополнительное образование                     B   \n",
       "4         0        158616               сыграть свадьбу                     C   \n",
       "...     ...           ...                           ...                   ...   \n",
       "21347     0        224791             операции с жильем                     B   \n",
       "21348     0        155999          сделка с автомобилем                     C   \n",
       "21349     1         89672                  недвижимость                     C   \n",
       "21350     1        244093  на покупку своего автомобиля                     B   \n",
       "21351     0         82047         на покупку автомобиля                     C   \n",
       "\n",
       "                    purpose_new  \n",
       "0      операции с недвижимостью  \n",
       "1        операции с автомобилем  \n",
       "2      операции с недвижимостью  \n",
       "3         получение образования  \n",
       "4            проведение свадьбы  \n",
       "...                         ...  \n",
       "21347  операции с недвижимостью  \n",
       "21348    операции с автомобилем  \n",
       "21349  операции с недвижимостью  \n",
       "21350    операции с автомобилем  \n",
       "21351    операции с автомобилем  \n",
       "\n",
       "[21352 rows x 11 columns]"
      ]
     },
     "metadata": {},
     "output_type": "display_data"
    }
   ],
   "source": [
    "  #вызовем библиотеку с функцией лемматизации\n",
    "from pymystem3 import Mystem\n",
    "m = Mystem()\n",
    "#напишем функцию для категоризации целей получения кредита для нового столбца purpose_category\n",
    "def purpose_category(row):\n",
    "    lemma = m.lemmatize(row['purpose'])\n",
    "    if 'свадьба' in lemma:\n",
    "        return 'проведение свадьбы'\n",
    "    if ('жилье' in lemma) or ('недвижимость' in lemma):\n",
    "        return 'операции с недвижимостью'\n",
    "    if 'автомобиль' in lemma:\n",
    "        return 'операции с автомобилем'\n",
    "    if 'образование' in lemma:\n",
    "        return 'получение образования'\n",
    "    return 'другое'\n",
    "\n",
    "df['purpose_new'] = df.apply(purpose_category, axis=1)\n",
    "display(df)"
   ]
  },
  {
   "cell_type": "markdown",
   "id": "d5fa56e6",
   "metadata": {},
   "source": [
    "### Ответы на вопросы."
   ]
  },
  {
   "cell_type": "markdown",
   "id": "9ddb33d4",
   "metadata": {},
   "source": [
    "##### Вопрос 1: Есть ли зависимость между количеством детей и возвратом кредита в срок?"
   ]
  },
  {
   "cell_type": "code",
   "execution_count": 30,
   "id": "9b981ba0",
   "metadata": {},
   "outputs": [
    {
     "data": {
      "text/html": [
       "<div>\n",
       "<style scoped>\n",
       "    .dataframe tbody tr th:only-of-type {\n",
       "        vertical-align: middle;\n",
       "    }\n",
       "\n",
       "    .dataframe tbody tr th {\n",
       "        vertical-align: top;\n",
       "    }\n",
       "\n",
       "    .dataframe thead th {\n",
       "        text-align: right;\n",
       "    }\n",
       "</style>\n",
       "<table border=\"1\" class=\"dataframe\">\n",
       "  <thead>\n",
       "    <tr style=\"text-align: right;\">\n",
       "      <th>debt</th>\n",
       "      <th>0</th>\n",
       "      <th>1</th>\n",
       "      <th>% невозврата</th>\n",
       "    </tr>\n",
       "    <tr>\n",
       "      <th>children</th>\n",
       "      <th></th>\n",
       "      <th></th>\n",
       "      <th></th>\n",
       "    </tr>\n",
       "  </thead>\n",
       "  <tbody>\n",
       "    <tr>\n",
       "      <td>0</td>\n",
       "      <td>12963.0</td>\n",
       "      <td>1058.0</td>\n",
       "      <td>7.545824</td>\n",
       "    </tr>\n",
       "    <tr>\n",
       "      <td>1</td>\n",
       "      <td>4397.0</td>\n",
       "      <td>442.0</td>\n",
       "      <td>9.134119</td>\n",
       "    </tr>\n",
       "    <tr>\n",
       "      <td>2</td>\n",
       "      <td>1912.0</td>\n",
       "      <td>202.0</td>\n",
       "      <td>9.555345</td>\n",
       "    </tr>\n",
       "    <tr>\n",
       "      <td>3</td>\n",
       "      <td>301.0</td>\n",
       "      <td>27.0</td>\n",
       "      <td>8.231707</td>\n",
       "    </tr>\n",
       "    <tr>\n",
       "      <td>4</td>\n",
       "      <td>37.0</td>\n",
       "      <td>4.0</td>\n",
       "      <td>9.756098</td>\n",
       "    </tr>\n",
       "    <tr>\n",
       "      <td>5</td>\n",
       "      <td>9.0</td>\n",
       "      <td>NaN</td>\n",
       "      <td>NaN</td>\n",
       "    </tr>\n",
       "  </tbody>\n",
       "</table>\n",
       "</div>"
      ],
      "text/plain": [
       "debt            0       1  % невозврата\n",
       "children                               \n",
       "0         12963.0  1058.0      7.545824\n",
       "1          4397.0   442.0      9.134119\n",
       "2          1912.0   202.0      9.555345\n",
       "3           301.0    27.0      8.231707\n",
       "4            37.0     4.0      9.756098\n",
       "5             9.0     NaN           NaN"
      ]
     },
     "metadata": {},
     "output_type": "display_data"
    }
   ],
   "source": [
    "pivot_table_children_debt = df.pivot_table(index=['children'], columns= 'debt', values='family_status_id', aggfunc='count')\n",
    "pivot_table_children_debt['% невозврата'] = pivot_table_children_debt[1]/(pivot_table_children_debt[1] + pivot_table_children_debt[0]) * 100\n",
    "display(pivot_table_children_debt)\n"
   ]
  },
  {
   "cell_type": "markdown",
   "id": "a5550fa2",
   "metadata": {},
   "source": [
    "Вывод:  \n",
    "Менее платёжеспособные заёмшики оказались те у кого в семье 4 ребёнка - 9.7 %, далее идут семьи с 2 детьми - 9.5%,  \n",
    "семьи с 1 ребёнком - 9 %, семьи с 3 детьми - 8.2 %, показатели у бездетных на втором месте по надёжности 7,5%. Но самые надёжные заёмщики это семьи у которых  5 детей , у них задолжностей нет, возможно потому что их всего 9.  \n",
    "   \n"
   ]
  },
  {
   "cell_type": "markdown",
   "id": "090fdf96",
   "metadata": {},
   "source": [
    "#####  Вопрос 2:Есть ли зависимость между семейным положением и возвратом кредита в срок?"
   ]
  },
  {
   "cell_type": "code",
   "execution_count": 31,
   "id": "8091e6d0",
   "metadata": {},
   "outputs": [
    {
     "data": {
      "text/html": [
       "<div>\n",
       "<style scoped>\n",
       "    .dataframe tbody tr th:only-of-type {\n",
       "        vertical-align: middle;\n",
       "    }\n",
       "\n",
       "    .dataframe tbody tr th {\n",
       "        vertical-align: top;\n",
       "    }\n",
       "\n",
       "    .dataframe thead th {\n",
       "        text-align: right;\n",
       "    }\n",
       "</style>\n",
       "<table border=\"1\" class=\"dataframe\">\n",
       "  <thead>\n",
       "    <tr style=\"text-align: right;\">\n",
       "      <th>debt</th>\n",
       "      <th>0</th>\n",
       "      <th>1</th>\n",
       "      <th>% невозврата</th>\n",
       "    </tr>\n",
       "    <tr>\n",
       "      <th>family_status_id</th>\n",
       "      <th></th>\n",
       "      <th></th>\n",
       "      <th></th>\n",
       "    </tr>\n",
       "  </thead>\n",
       "  <tbody>\n",
       "    <tr>\n",
       "      <td>0</td>\n",
       "      <td>11363</td>\n",
       "      <td>927</td>\n",
       "      <td>7.542718</td>\n",
       "    </tr>\n",
       "    <tr>\n",
       "      <td>1</td>\n",
       "      <td>3743</td>\n",
       "      <td>386</td>\n",
       "      <td>9.348511</td>\n",
       "    </tr>\n",
       "    <tr>\n",
       "      <td>2</td>\n",
       "      <td>892</td>\n",
       "      <td>62</td>\n",
       "      <td>6.498952</td>\n",
       "    </tr>\n",
       "    <tr>\n",
       "      <td>3</td>\n",
       "      <td>1100</td>\n",
       "      <td>85</td>\n",
       "      <td>7.172996</td>\n",
       "    </tr>\n",
       "    <tr>\n",
       "      <td>4</td>\n",
       "      <td>2521</td>\n",
       "      <td>273</td>\n",
       "      <td>9.770938</td>\n",
       "    </tr>\n",
       "  </tbody>\n",
       "</table>\n",
       "</div>"
      ],
      "text/plain": [
       "debt                  0    1  % невозврата\n",
       "family_status_id                          \n",
       "0                 11363  927      7.542718\n",
       "1                  3743  386      9.348511\n",
       "2                   892   62      6.498952\n",
       "3                  1100   85      7.172996\n",
       "4                  2521  273      9.770938"
      ]
     },
     "metadata": {},
     "output_type": "display_data"
    }
   ],
   "source": [
    "pivot_table_family_debt = df.pivot_table(index='family_status_id', columns= 'debt', values='children', aggfunc='count')\n",
    "pivot_table_family_debt['% невозврата'] = pivot_table_family_debt[1]/(pivot_table_family_debt[1] + pivot_table_family_debt[0]) * 100\n",
    "display(pivot_table_family_debt)"
   ]
  },
  {
   "cell_type": "markdown",
   "id": "41f0868c",
   "metadata": {},
   "source": [
    "Type Markdown and LaTeX:  𝛼2     \n",
    "    Вывод:  \n",
    "      Самый большой процент \"невозврата\" у 4 категории (Не женат / не замужем) - 10 %;  \n",
    "      на втором месте категория номер 1 \"гражданский брак\" - 9 %;  \n",
    "      на третьем месте категория номер 0 \"женат / замужем\" - 7.5 %;  \n",
    "      на четвёртом категория номер 3 \"в разводе\" - 7 %;  \n",
    "      самые надёжные заёмщики это номер 2 \"вдовец / вдова\" - 6.3 %  \n",
    " \n",
    " Отсюда следует, что клиенты, которые не состоят ни в каких отношениях более безответственно относятся к кредитным обязательствам. Заёмщики, которые были в браке или имеют статус вдовец/вдова чаще проявляют лояльность.   \n",
    "      "
   ]
  },
  {
   "cell_type": "markdown",
   "id": "ec2c33c7",
   "metadata": {},
   "source": [
    "#####  Вопрос 3 :Есть ли зависимость между уровнем дохода и возвратом кредита в срок?"
   ]
  },
  {
   "cell_type": "code",
   "execution_count": 32,
   "id": "8972e591",
   "metadata": {},
   "outputs": [
    {
     "data": {
      "text/html": [
       "<div>\n",
       "<style scoped>\n",
       "    .dataframe tbody tr th:only-of-type {\n",
       "        vertical-align: middle;\n",
       "    }\n",
       "\n",
       "    .dataframe tbody tr th {\n",
       "        vertical-align: top;\n",
       "    }\n",
       "\n",
       "    .dataframe thead th {\n",
       "        text-align: right;\n",
       "    }\n",
       "</style>\n",
       "<table border=\"1\" class=\"dataframe\">\n",
       "  <thead>\n",
       "    <tr style=\"text-align: right;\">\n",
       "      <th>debt</th>\n",
       "      <th>0</th>\n",
       "      <th>1</th>\n",
       "      <th>% невозврата</th>\n",
       "    </tr>\n",
       "    <tr>\n",
       "      <th>total_income_category</th>\n",
       "      <th></th>\n",
       "      <th></th>\n",
       "      <th></th>\n",
       "    </tr>\n",
       "  </thead>\n",
       "  <tbody>\n",
       "    <tr>\n",
       "      <td>A</td>\n",
       "      <td>23</td>\n",
       "      <td>2</td>\n",
       "      <td>8.000000</td>\n",
       "    </tr>\n",
       "    <tr>\n",
       "      <td>B</td>\n",
       "      <td>4660</td>\n",
       "      <td>355</td>\n",
       "      <td>7.078764</td>\n",
       "    </tr>\n",
       "    <tr>\n",
       "      <td>C</td>\n",
       "      <td>14589</td>\n",
       "      <td>1353</td>\n",
       "      <td>8.487015</td>\n",
       "    </tr>\n",
       "    <tr>\n",
       "      <td>D</td>\n",
       "      <td>327</td>\n",
       "      <td>21</td>\n",
       "      <td>6.034483</td>\n",
       "    </tr>\n",
       "    <tr>\n",
       "      <td>E</td>\n",
       "      <td>20</td>\n",
       "      <td>2</td>\n",
       "      <td>9.090909</td>\n",
       "    </tr>\n",
       "  </tbody>\n",
       "</table>\n",
       "</div>"
      ],
      "text/plain": [
       "debt                       0     1  % невозврата\n",
       "total_income_category                           \n",
       "A                         23     2      8.000000\n",
       "B                       4660   355      7.078764\n",
       "C                      14589  1353      8.487015\n",
       "D                        327    21      6.034483\n",
       "E                         20     2      9.090909"
      ]
     },
     "metadata": {},
     "output_type": "display_data"
    }
   ],
   "source": [
    "pivot_table_income_debt = df.pivot_table(index='total_income_category', columns= 'debt', values='children', aggfunc='count')\n",
    "pivot_table_income_debt['% невозврата'] = pivot_table_income_debt[1]/(pivot_table_income_debt[1] + pivot_table_income_debt[0]) * 100\n",
    "display(pivot_table_income_debt)"
   ]
  },
  {
   "cell_type": "markdown",
   "id": "91ef5790",
   "metadata": {},
   "source": [
    "Type Markdown and LaTeX:  𝛼2   \n",
    "Вывод:  \n",
    "Заёмщики категории «Е»(до 30000) чаще остальных имеют задолжность по кредиту в что составляет 9 % от общего количества. Далее идут заемщики категории «С»(до 200000) их доля 8,5 % процента, за ними заёмщики категории «А»(от 1000000) - 8 %. Заёмщик категории «В»(до 1000000) остаются в должниках в 7% случаев, а самыми надёжными оказались заёмщики категории «D»(до 50000) их 6%.\n",
    "\n",
    "Здесь получается интересный вывод, самыми ответственными заемщиками оказываются клиенты категории «D» выше «минимального» и «B» ниже «максимального». Получается, что эти категории имеют более стабильный доход и выплачивают кредит регулярно.А те , что по краям и по середине чаще остаются в должниках.\n"
   ]
  },
  {
   "cell_type": "markdown",
   "id": "7364f462",
   "metadata": {},
   "source": [
    "#####  Вопрос 4 : Как разные цели кредита влияют на его возврат в срок?"
   ]
  },
  {
   "cell_type": "code",
   "execution_count": 34,
   "id": "25d586f5",
   "metadata": {},
   "outputs": [
    {
     "data": {
      "text/html": [
       "<div>\n",
       "<style scoped>\n",
       "    .dataframe tbody tr th:only-of-type {\n",
       "        vertical-align: middle;\n",
       "    }\n",
       "\n",
       "    .dataframe tbody tr th {\n",
       "        vertical-align: top;\n",
       "    }\n",
       "\n",
       "    .dataframe thead th {\n",
       "        text-align: right;\n",
       "    }\n",
       "</style>\n",
       "<table border=\"1\" class=\"dataframe\">\n",
       "  <thead>\n",
       "    <tr style=\"text-align: right;\">\n",
       "      <th>debt</th>\n",
       "      <th>0</th>\n",
       "      <th>1</th>\n",
       "      <th>% невозврата</th>\n",
       "    </tr>\n",
       "    <tr>\n",
       "      <th>purpose_new</th>\n",
       "      <th></th>\n",
       "      <th></th>\n",
       "      <th></th>\n",
       "    </tr>\n",
       "  </thead>\n",
       "  <tbody>\n",
       "    <tr>\n",
       "      <td>операции с автомобилем</td>\n",
       "      <td>3884</td>\n",
       "      <td>400</td>\n",
       "      <td>9.337068</td>\n",
       "    </tr>\n",
       "    <tr>\n",
       "      <td>операции с недвижимостью</td>\n",
       "      <td>9984</td>\n",
       "      <td>779</td>\n",
       "      <td>7.237759</td>\n",
       "    </tr>\n",
       "    <tr>\n",
       "      <td>получение образования</td>\n",
       "      <td>3625</td>\n",
       "      <td>370</td>\n",
       "      <td>9.261577</td>\n",
       "    </tr>\n",
       "    <tr>\n",
       "      <td>проведение свадьбы</td>\n",
       "      <td>2126</td>\n",
       "      <td>184</td>\n",
       "      <td>7.965368</td>\n",
       "    </tr>\n",
       "  </tbody>\n",
       "</table>\n",
       "</div>"
      ],
      "text/plain": [
       "debt                         0    1  % невозврата\n",
       "purpose_new                                      \n",
       "операции с автомобилем    3884  400      9.337068\n",
       "операции с недвижимостью  9984  779      7.237759\n",
       "получение образования     3625  370      9.261577\n",
       "проведение свадьбы        2126  184      7.965368"
      ]
     },
     "metadata": {},
     "output_type": "display_data"
    }
   ],
   "source": [
    "pivot_table_purpose_debt = df.pivot_table(index='purpose_new', columns= 'debt', values='children', aggfunc='count')\n",
    "pivot_table_purpose_debt['% невозврата'] = pivot_table_purpose_debt[1]/(pivot_table_purpose_debt[1] + pivot_table_purpose_debt[0]) * 100\n",
    "\n",
    "display(pivot_table_purpose_debt)"
   ]
  },
  {
   "cell_type": "markdown",
   "id": "f443193a",
   "metadata": {},
   "source": [
    "Type Markdown and LaTeX: 𝛼2   \n",
    "Вывод:  \n",
    "Также исследовали заёмщиков по типам кредитов, выяснилось, что более неплатёжеспособные стали те кто брал кредит на операции с автомобилем их 9,3%, за ними следуют заемщики бравшие кредит на образование - 9,2%. Категория клиентов бравших кредит на проведение свадьбы не корректно оплачивала задолжность в  7,4 % случаев. Самые ответственные заёмщики оказались среди тех кто брал кредит на операции с недвижимостью их 7,2 %.   \n",
    "  Цель кредита тоже влияет на возврат кредита. Ипотечное кредитование оказалось самым оплачиваемым (это можно объяснить различными факторами: залог приобретаемого жилья, страховка, государственные и корпоративные программы) А вот автокредитование не всегда выплачивается в полном объёме т.к. это более импульсивная покупка (цель) из наших данных. \n",
    "\n"
   ]
  },
  {
   "cell_type": "markdown",
   "id": "2dac22bd",
   "metadata": {},
   "source": [
    "##### Вывод 1:"
   ]
  },
  {
   "cell_type": "markdown",
   "id": "fc079f3e",
   "metadata": {},
   "source": [
    "Для лучшей презентации результатов исследования эту часть вывода хотелось бы дополнить «визуальными эффектами»: гистограммами, графиками или круговыми диаграммами.  \n"
   ]
  },
  {
   "cell_type": "markdown",
   "id": "9bbbefe4",
   "metadata": {},
   "source": [
    "## Общий вывод:"
   ]
  },
  {
   "cell_type": "markdown",
   "id": "b1a048ab",
   "metadata": {},
   "source": [
    "Мы исследовали входные данные заказчика, предварительно проверили на сколько они корректны, выявили и исправили аномальные значения.  \n",
    " Изучили  параметры  кредитной нагрузки: количество детей, семейное положение, уровень дохода и цель кредита . Описали зависимость в процентном соотношении.  \n",
    "Выполнили цель проекта : исследовали критерии которые в дальнейшем будут учтены при построении модели кредитного скоринга. "
   ]
  },
  {
   "cell_type": "markdown",
   "id": "9ee12f25",
   "metadata": {},
   "source": [
    "<div class=\"alert alert-info\" style=\"border-radius: 15px; box-shadow: 4px 4px 4px; border: 1px solid \">\n",
    "\n",
    "Итоги по каждой группе:  \n",
    "    \n",
    "    1.Количество детей  \n",
    " Самые низкие показатели возврата кредитных средств в семьях, где 4 ребёнка - 9.7 %. Без долгов оказались семьи с 5 детьми, но они малочисленны. Я бы обратила внимание на бездетных семей их показатели 7,5% \n",
    "\n",
    "    2.Семейное положение\n",
    " Самый большой процент \"невозврата\" у 4 категории «Не женат / не замужем» - 10 %. Самые надёжные заёмщики — это 2 категория «вдовец / вдова\" - 6.3 %.  \n",
    "\n",
    "    3.Уровень дохода\n",
    " Заёмщики категории «Е» (до 30000) чаще остальных имеют задолженность по кредиту в что составляет 9 %. Самыми надёжными заёмщики категории «D» (до 50000) их 6%.  \n",
    "\n",
    "    4.Цель кредита    \n",
    " Чаще всего должниками становятся заёмщики автокредитования 9,3%. \n",
    "Ипотечные кредиты выплачиваются лучше их показатели 7,2 %.\n",
    "\n",
    "    \n",
    "    \n",
    "</div>\n",
    "\n",
    "</div>"
   ]
  },
  {
   "cell_type": "code",
   "execution_count": null,
   "id": "d1632fe2",
   "metadata": {},
   "outputs": [],
   "source": []
  }
 ],
 "metadata": {
  "ExecuteTimeLog": [
   {
    "duration": 769,
    "start_time": "2022-02-01T07:20:43.267Z"
   },
   {
    "duration": 80,
    "start_time": "2022-02-01T07:21:07.743Z"
   },
   {
    "duration": 469,
    "start_time": "2022-02-02T12:18:17.214Z"
   },
   {
    "duration": 804,
    "start_time": "2022-02-02T12:18:28.908Z"
   },
   {
    "duration": 348,
    "start_time": "2022-02-02T12:18:30.420Z"
   },
   {
    "duration": 299,
    "start_time": "2022-02-02T12:19:04.386Z"
   },
   {
    "duration": 380,
    "start_time": "2022-02-02T12:21:54.820Z"
   },
   {
    "duration": 81,
    "start_time": "2022-02-02T12:22:13.862Z"
   },
   {
    "duration": 79,
    "start_time": "2022-02-02T12:24:29.860Z"
   },
   {
    "duration": 308,
    "start_time": "2022-02-02T12:24:40.034Z"
   },
   {
    "duration": 90,
    "start_time": "2022-02-02T12:25:31.731Z"
   },
   {
    "duration": 19,
    "start_time": "2022-02-02T12:29:22.424Z"
   },
   {
    "duration": 16,
    "start_time": "2022-02-02T12:29:42.166Z"
   },
   {
    "duration": 104,
    "start_time": "2022-02-02T12:42:05.832Z"
   },
   {
    "duration": 16,
    "start_time": "2022-02-02T12:42:09.900Z"
   },
   {
    "duration": 27,
    "start_time": "2022-02-02T12:44:30.359Z"
   },
   {
    "duration": 12,
    "start_time": "2022-02-02T12:47:34.997Z"
   },
   {
    "duration": -1599,
    "start_time": "2022-02-02T13:20:17.533Z"
   },
   {
    "duration": 7385,
    "start_time": "2022-02-02T13:20:27.188Z"
   },
   {
    "duration": 22,
    "start_time": "2022-02-02T13:20:59.480Z"
   },
   {
    "duration": 315,
    "start_time": "2022-02-02T13:35:46.119Z"
   },
   {
    "duration": 4,
    "start_time": "2022-02-02T13:35:57.291Z"
   },
   {
    "duration": 4,
    "start_time": "2022-02-02T13:36:00.923Z"
   },
   {
    "duration": -952,
    "start_time": "2022-02-02T13:37:05.048Z"
   },
   {
    "duration": 8266,
    "start_time": "2022-02-02T13:37:08.779Z"
   },
   {
    "duration": 7,
    "start_time": "2022-02-02T13:37:24.427Z"
   },
   {
    "duration": 10,
    "start_time": "2022-02-02T13:39:02.743Z"
   },
   {
    "duration": 9609,
    "start_time": "2022-02-02T13:48:02.502Z"
   },
   {
    "duration": -1237,
    "start_time": "2022-02-02T13:49:09.943Z"
   },
   {
    "duration": 8909,
    "start_time": "2022-02-02T13:49:15.922Z"
   },
   {
    "duration": 95,
    "start_time": "2022-02-02T13:50:07.121Z"
   },
   {
    "duration": 102,
    "start_time": "2022-02-02T13:50:51.338Z"
   },
   {
    "duration": 164,
    "start_time": "2022-02-02T13:50:57.410Z"
   },
   {
    "duration": 8,
    "start_time": "2022-02-02T13:51:21.906Z"
   },
   {
    "duration": 293,
    "start_time": "2022-02-02T13:53:49.080Z"
   },
   {
    "duration": 14,
    "start_time": "2022-02-02T13:54:47.066Z"
   },
   {
    "duration": 15,
    "start_time": "2022-02-02T13:55:18.381Z"
   },
   {
    "duration": 16,
    "start_time": "2022-02-02T13:59:37.116Z"
   },
   {
    "duration": 78,
    "start_time": "2022-02-02T14:28:08.330Z"
   },
   {
    "duration": 7,
    "start_time": "2022-02-02T15:43:22.907Z"
   },
   {
    "duration": 47,
    "start_time": "2022-02-02T16:24:50.410Z"
   },
   {
    "duration": 45,
    "start_time": "2022-02-02T17:01:20.424Z"
   },
   {
    "duration": 88,
    "start_time": "2022-02-02T17:09:24.451Z"
   },
   {
    "duration": 16,
    "start_time": "2022-02-02T17:09:29.661Z"
   },
   {
    "duration": 14,
    "start_time": "2022-02-02T17:09:33.673Z"
   },
   {
    "duration": 19,
    "start_time": "2022-02-02T17:09:36.659Z"
   },
   {
    "duration": 68,
    "start_time": "2022-02-02T17:09:41.169Z"
   },
   {
    "duration": 294,
    "start_time": "2022-02-02T18:22:45.617Z"
   },
   {
    "duration": 360,
    "start_time": "2022-02-02T18:23:12.812Z"
   },
   {
    "duration": 277,
    "start_time": "2022-02-02T18:23:48.038Z"
   },
   {
    "duration": 288,
    "start_time": "2022-02-02T18:27:41.166Z"
   },
   {
    "duration": 341,
    "start_time": "2022-02-02T18:28:12.891Z"
   },
   {
    "duration": 315,
    "start_time": "2022-02-02T18:30:26.802Z"
   },
   {
    "duration": 287,
    "start_time": "2022-02-02T18:30:55.595Z"
   },
   {
    "duration": 404,
    "start_time": "2022-02-02T18:31:39.898Z"
   },
   {
    "duration": 324,
    "start_time": "2022-02-02T18:32:47.620Z"
   },
   {
    "duration": 412,
    "start_time": "2022-02-02T18:35:06.841Z"
   },
   {
    "duration": 6,
    "start_time": "2022-02-02T18:43:28.245Z"
   },
   {
    "duration": 6,
    "start_time": "2022-02-02T19:03:15.244Z"
   },
   {
    "duration": 12,
    "start_time": "2022-02-02T19:19:19.413Z"
   },
   {
    "duration": 352,
    "start_time": "2022-02-03T14:24:26.220Z"
   },
   {
    "duration": 176,
    "start_time": "2022-02-03T14:24:41.314Z"
   },
   {
    "duration": 855,
    "start_time": "2022-02-03T14:25:30.564Z"
   },
   {
    "duration": 68,
    "start_time": "2022-02-03T14:25:48.432Z"
   },
   {
    "duration": 10,
    "start_time": "2022-02-03T14:25:53.464Z"
   },
   {
    "duration": 10,
    "start_time": "2022-02-03T14:25:56.012Z"
   },
   {
    "duration": 8,
    "start_time": "2022-02-03T14:25:57.788Z"
   },
   {
    "duration": 30,
    "start_time": "2022-02-03T14:26:02.882Z"
   },
   {
    "duration": 9,
    "start_time": "2022-02-03T14:26:08.615Z"
   },
   {
    "duration": 3,
    "start_time": "2022-02-03T14:26:11.096Z"
   },
   {
    "duration": 3,
    "start_time": "2022-02-03T14:26:14.712Z"
   },
   {
    "duration": 6,
    "start_time": "2022-02-03T14:26:41.408Z"
   },
   {
    "duration": 8,
    "start_time": "2022-02-03T14:32:46.696Z"
   },
   {
    "duration": 1832,
    "start_time": "2022-02-03T14:54:41.569Z"
   },
   {
    "duration": 177,
    "start_time": "2022-02-03T14:56:12.885Z"
   },
   {
    "duration": 179,
    "start_time": "2022-02-03T14:56:23.829Z"
   },
   {
    "duration": 19,
    "start_time": "2022-02-03T14:56:33.607Z"
   },
   {
    "duration": 16,
    "start_time": "2022-02-03T14:57:00.675Z"
   },
   {
    "duration": 58,
    "start_time": "2022-02-03T14:59:47.400Z"
   },
   {
    "duration": 6,
    "start_time": "2022-02-03T14:59:55.229Z"
   },
   {
    "duration": 8,
    "start_time": "2022-02-03T15:00:24.606Z"
   },
   {
    "duration": 7,
    "start_time": "2022-02-03T15:04:06.301Z"
   },
   {
    "duration": 5,
    "start_time": "2022-02-03T15:05:13.474Z"
   },
   {
    "duration": 7,
    "start_time": "2022-02-03T15:05:39.808Z"
   },
   {
    "duration": 7,
    "start_time": "2022-02-03T15:06:33.283Z"
   },
   {
    "duration": 5,
    "start_time": "2022-02-03T15:06:36.385Z"
   },
   {
    "duration": 7,
    "start_time": "2022-02-03T15:06:46.924Z"
   },
   {
    "duration": 9,
    "start_time": "2022-02-03T15:07:07.936Z"
   },
   {
    "duration": 18,
    "start_time": "2022-02-03T15:07:14.368Z"
   },
   {
    "duration": 7,
    "start_time": "2022-02-03T15:07:17.892Z"
   },
   {
    "duration": 5,
    "start_time": "2022-02-03T15:07:57.864Z"
   },
   {
    "duration": 16,
    "start_time": "2022-02-03T15:08:04.045Z"
   },
   {
    "duration": 7,
    "start_time": "2022-02-03T15:08:06.161Z"
   },
   {
    "duration": 233,
    "start_time": "2022-02-03T15:09:43.621Z"
   },
   {
    "duration": 581,
    "start_time": "2022-02-03T15:09:58.404Z"
   },
   {
    "duration": 12,
    "start_time": "2022-02-03T15:10:00.886Z"
   },
   {
    "duration": 9,
    "start_time": "2022-02-03T15:10:02.741Z"
   },
   {
    "duration": 9,
    "start_time": "2022-02-03T15:10:03.637Z"
   },
   {
    "duration": 30,
    "start_time": "2022-02-03T15:10:06.940Z"
   },
   {
    "duration": 2109,
    "start_time": "2022-02-03T15:10:10.105Z"
   },
   {
    "duration": 6167,
    "start_time": "2022-02-03T15:10:12.216Z"
   },
   {
    "duration": 1909,
    "start_time": "2022-02-03T15:10:18.386Z"
   },
   {
    "duration": 9,
    "start_time": "2022-02-03T15:10:20.556Z"
   },
   {
    "duration": 5,
    "start_time": "2022-02-03T15:10:33.564Z"
   },
   {
    "duration": 19,
    "start_time": "2022-02-03T15:12:22.940Z"
   },
   {
    "duration": 16,
    "start_time": "2022-02-03T15:13:50.984Z"
   },
   {
    "duration": 188,
    "start_time": "2022-02-03T15:29:15.915Z"
   },
   {
    "duration": 2,
    "start_time": "2022-02-03T15:29:32.306Z"
   },
   {
    "duration": 3,
    "start_time": "2022-02-03T15:29:38.151Z"
   },
   {
    "duration": 3,
    "start_time": "2022-02-03T15:29:42.437Z"
   },
   {
    "duration": 7,
    "start_time": "2022-02-03T15:29:42.896Z"
   },
   {
    "duration": 7,
    "start_time": "2022-02-03T15:29:51.133Z"
   },
   {
    "duration": 6,
    "start_time": "2022-02-03T15:29:52.240Z"
   },
   {
    "duration": 19,
    "start_time": "2022-02-03T15:29:52.749Z"
   },
   {
    "duration": 8,
    "start_time": "2022-02-03T15:29:57.001Z"
   },
   {
    "duration": 8,
    "start_time": "2022-02-03T15:30:07.526Z"
   },
   {
    "duration": 217,
    "start_time": "2022-02-03T15:30:31.970Z"
   },
   {
    "duration": 609,
    "start_time": "2022-02-03T15:30:45.829Z"
   },
   {
    "duration": 11,
    "start_time": "2022-02-03T15:30:47.584Z"
   },
   {
    "duration": 10,
    "start_time": "2022-02-03T15:30:48.925Z"
   },
   {
    "duration": 8,
    "start_time": "2022-02-03T15:30:49.819Z"
   },
   {
    "duration": 30,
    "start_time": "2022-02-03T15:30:53.320Z"
   },
   {
    "duration": 9,
    "start_time": "2022-02-03T15:30:57.008Z"
   },
   {
    "duration": 6,
    "start_time": "2022-02-03T15:30:57.720Z"
   },
   {
    "duration": 17,
    "start_time": "2022-02-03T15:30:59.508Z"
   },
   {
    "duration": 7,
    "start_time": "2022-02-03T15:31:01.249Z"
   },
   {
    "duration": 5,
    "start_time": "2022-02-03T15:31:01.922Z"
   },
   {
    "duration": 19,
    "start_time": "2022-02-03T15:31:02.439Z"
   },
   {
    "duration": 15,
    "start_time": "2022-02-03T15:31:02.965Z"
   },
   {
    "duration": 527,
    "start_time": "2022-02-03T16:02:09.813Z"
   },
   {
    "duration": 509,
    "start_time": "2022-02-03T16:03:24.131Z"
   },
   {
    "duration": 624,
    "start_time": "2022-02-03T16:06:19.754Z"
   },
   {
    "duration": 1315,
    "start_time": "2022-02-03T16:08:11.418Z"
   },
   {
    "duration": 1317,
    "start_time": "2022-02-03T16:08:31.329Z"
   },
   {
    "duration": 249,
    "start_time": "2022-02-03T16:08:52.395Z"
   },
   {
    "duration": 536,
    "start_time": "2022-02-03T16:09:23.443Z"
   },
   {
    "duration": 256,
    "start_time": "2022-02-03T16:09:36.290Z"
   },
   {
    "duration": 206,
    "start_time": "2022-02-03T16:10:35.684Z"
   },
   {
    "duration": 196,
    "start_time": "2022-02-03T16:23:10.347Z"
   },
   {
    "duration": 216,
    "start_time": "2022-02-03T16:23:33.070Z"
   },
   {
    "duration": 7,
    "start_time": "2022-02-03T16:24:11.114Z"
   },
   {
    "duration": 9,
    "start_time": "2022-02-03T16:24:31.350Z"
   },
   {
    "duration": 12,
    "start_time": "2022-02-03T16:25:10.442Z"
   },
   {
    "duration": 29,
    "start_time": "2022-02-03T16:34:07.931Z"
   },
   {
    "duration": 1228,
    "start_time": "2022-02-03T16:34:58.716Z"
   },
   {
    "duration": 20,
    "start_time": "2022-02-03T16:36:11.825Z"
   },
   {
    "duration": 8,
    "start_time": "2022-02-03T16:36:22.887Z"
   },
   {
    "duration": 178,
    "start_time": "2022-02-03T16:36:47.511Z"
   },
   {
    "duration": 23,
    "start_time": "2022-02-03T17:09:18.673Z"
   },
   {
    "duration": 39,
    "start_time": "2022-02-03T17:13:14.475Z"
   },
   {
    "duration": 295,
    "start_time": "2022-02-03T17:16:32.723Z"
   },
   {
    "duration": 198,
    "start_time": "2022-02-03T17:17:45.189Z"
   },
   {
    "duration": 42,
    "start_time": "2022-02-03T17:19:12.352Z"
   },
   {
    "duration": 43,
    "start_time": "2022-02-03T17:22:20.545Z"
   },
   {
    "duration": 10,
    "start_time": "2022-02-03T17:23:57.421Z"
   },
   {
    "duration": 25,
    "start_time": "2022-02-03T17:25:03.898Z"
   },
   {
    "duration": 179,
    "start_time": "2022-02-03T17:27:07.266Z"
   },
   {
    "duration": 6,
    "start_time": "2022-02-03T17:27:22.980Z"
   },
   {
    "duration": 177,
    "start_time": "2022-02-03T17:27:23.883Z"
   },
   {
    "duration": 16,
    "start_time": "2022-02-03T17:27:41.883Z"
   },
   {
    "duration": 15,
    "start_time": "2022-02-03T17:27:42.841Z"
   },
   {
    "duration": 182,
    "start_time": "2022-02-03T17:28:38.302Z"
   },
   {
    "duration": 190,
    "start_time": "2022-02-03T17:28:56.230Z"
   },
   {
    "duration": 63,
    "start_time": "2022-02-03T17:30:46.036Z"
   },
   {
    "duration": 11,
    "start_time": "2022-02-03T17:30:49.300Z"
   },
   {
    "duration": 10,
    "start_time": "2022-02-03T17:30:53.302Z"
   },
   {
    "duration": 9,
    "start_time": "2022-02-03T17:30:54.178Z"
   },
   {
    "duration": 30,
    "start_time": "2022-02-03T17:30:57.706Z"
   },
   {
    "duration": 8,
    "start_time": "2022-02-03T17:31:08.594Z"
   },
   {
    "duration": 5,
    "start_time": "2022-02-03T17:31:11.042Z"
   },
   {
    "duration": 16,
    "start_time": "2022-02-03T17:31:16.470Z"
   },
   {
    "duration": 7,
    "start_time": "2022-02-03T17:31:18.571Z"
   },
   {
    "duration": 11,
    "start_time": "2022-02-03T17:31:20.213Z"
   },
   {
    "duration": 21,
    "start_time": "2022-02-03T17:31:21.294Z"
   },
   {
    "duration": 11,
    "start_time": "2022-02-03T17:31:26.775Z"
   },
   {
    "duration": 20,
    "start_time": "2022-02-03T17:31:34.393Z"
   },
   {
    "duration": 21,
    "start_time": "2022-02-03T17:31:35.766Z"
   },
   {
    "duration": 55,
    "start_time": "2022-02-03T17:31:38.482Z"
   },
   {
    "duration": 22,
    "start_time": "2022-02-03T17:32:55.673Z"
   },
   {
    "duration": 183,
    "start_time": "2022-02-03T17:34:18.597Z"
   },
   {
    "duration": 42,
    "start_time": "2022-02-03T17:34:39.670Z"
   },
   {
    "duration": 22,
    "start_time": "2022-02-03T17:35:42.270Z"
   },
   {
    "duration": 5,
    "start_time": "2022-02-03T17:40:52.937Z"
   },
   {
    "duration": 6,
    "start_time": "2022-02-03T17:45:01.587Z"
   },
   {
    "duration": 20,
    "start_time": "2022-02-03T17:45:02.367Z"
   },
   {
    "duration": 435,
    "start_time": "2022-02-03T17:52:14.820Z"
   },
   {
    "duration": 5,
    "start_time": "2022-02-03T17:52:28.765Z"
   },
   {
    "duration": 22,
    "start_time": "2022-02-03T17:57:35.710Z"
   },
   {
    "duration": 22,
    "start_time": "2022-02-03T17:57:56.190Z"
   },
   {
    "duration": 8,
    "start_time": "2022-02-03T17:58:55.815Z"
   },
   {
    "duration": 183,
    "start_time": "2022-02-03T17:59:42.699Z"
   },
   {
    "duration": 61,
    "start_time": "2022-02-03T18:00:41.826Z"
   },
   {
    "duration": 9,
    "start_time": "2022-02-03T18:00:52.490Z"
   },
   {
    "duration": 172,
    "start_time": "2022-02-03T18:01:06.322Z"
   },
   {
    "duration": 10,
    "start_time": "2022-02-03T18:02:48.002Z"
   },
   {
    "duration": 193,
    "start_time": "2022-02-03T18:08:56.911Z"
   },
   {
    "duration": 9,
    "start_time": "2022-02-03T18:09:33.233Z"
   },
   {
    "duration": 187,
    "start_time": "2022-02-03T18:10:23.730Z"
   },
   {
    "duration": 13,
    "start_time": "2022-02-03T18:10:32.076Z"
   },
   {
    "duration": 65,
    "start_time": "2022-02-03T18:11:16.280Z"
   },
   {
    "duration": 11,
    "start_time": "2022-02-03T18:11:18.268Z"
   },
   {
    "duration": 9,
    "start_time": "2022-02-03T18:11:20.248Z"
   },
   {
    "duration": 8,
    "start_time": "2022-02-03T18:11:21.132Z"
   },
   {
    "duration": 28,
    "start_time": "2022-02-03T18:11:28.572Z"
   },
   {
    "duration": 5,
    "start_time": "2022-02-03T18:11:30.236Z"
   },
   {
    "duration": 19,
    "start_time": "2022-02-03T18:11:37.669Z"
   },
   {
    "duration": 8,
    "start_time": "2022-02-03T18:11:47.978Z"
   },
   {
    "duration": 12,
    "start_time": "2022-02-03T18:11:49.000Z"
   },
   {
    "duration": 9,
    "start_time": "2022-02-03T18:11:52.315Z"
   },
   {
    "duration": 6,
    "start_time": "2022-02-03T18:11:54.580Z"
   },
   {
    "duration": 16,
    "start_time": "2022-02-03T18:11:58.347Z"
   },
   {
    "duration": 8,
    "start_time": "2022-02-03T18:12:00.048Z"
   },
   {
    "duration": 12,
    "start_time": "2022-02-03T18:12:01.687Z"
   },
   {
    "duration": 21,
    "start_time": "2022-02-03T18:12:02.648Z"
   },
   {
    "duration": 16,
    "start_time": "2022-02-03T18:12:07.436Z"
   },
   {
    "duration": 24,
    "start_time": "2022-02-03T18:12:09.727Z"
   },
   {
    "duration": 10,
    "start_time": "2022-02-03T18:25:41.940Z"
   },
   {
    "duration": 9,
    "start_time": "2022-02-03T18:26:33.939Z"
   },
   {
    "duration": 5,
    "start_time": "2022-02-03T18:26:48.073Z"
   },
   {
    "duration": 16,
    "start_time": "2022-02-03T18:26:49.951Z"
   },
   {
    "duration": 8,
    "start_time": "2022-02-03T18:26:52.739Z"
   },
   {
    "duration": 20,
    "start_time": "2022-02-03T18:26:53.226Z"
   },
   {
    "duration": 20,
    "start_time": "2022-02-03T18:26:53.823Z"
   },
   {
    "duration": 15,
    "start_time": "2022-02-03T18:26:54.783Z"
   },
   {
    "duration": 30,
    "start_time": "2022-02-03T18:27:01.433Z"
   },
   {
    "duration": 14,
    "start_time": "2022-02-03T18:27:53.922Z"
   },
   {
    "duration": 216,
    "start_time": "2022-02-03T18:39:22.826Z"
   },
   {
    "duration": 177,
    "start_time": "2022-02-03T18:39:32.843Z"
   },
   {
    "duration": 23,
    "start_time": "2022-02-03T18:40:25.230Z"
   },
   {
    "duration": 15,
    "start_time": "2022-02-03T18:41:15.758Z"
   },
   {
    "duration": 20,
    "start_time": "2022-02-03T18:41:23.570Z"
   },
   {
    "duration": 19,
    "start_time": "2022-02-03T18:42:28.576Z"
   },
   {
    "duration": 40,
    "start_time": "2022-02-03T18:43:04.892Z"
   },
   {
    "duration": 22,
    "start_time": "2022-02-03T18:43:31.957Z"
   },
   {
    "duration": 21,
    "start_time": "2022-02-03T18:44:34.849Z"
   },
   {
    "duration": 188,
    "start_time": "2022-02-03T18:44:47.789Z"
   },
   {
    "duration": 21,
    "start_time": "2022-02-03T18:44:57.737Z"
   },
   {
    "duration": 13,
    "start_time": "2022-02-03T18:45:40.769Z"
   },
   {
    "duration": 191,
    "start_time": "2022-02-03T18:46:00.413Z"
   },
   {
    "duration": 17,
    "start_time": "2022-02-03T18:46:08.057Z"
   },
   {
    "duration": 31,
    "start_time": "2022-02-03T18:46:54.169Z"
   },
   {
    "duration": 17,
    "start_time": "2022-02-03T18:47:49.879Z"
   },
   {
    "duration": 56,
    "start_time": "2022-02-03T18:48:43.681Z"
   },
   {
    "duration": 17,
    "start_time": "2022-02-03T18:48:54.285Z"
   },
   {
    "duration": 18,
    "start_time": "2022-02-03T18:51:14.128Z"
   },
   {
    "duration": 18,
    "start_time": "2022-02-03T18:53:38.496Z"
   },
   {
    "duration": 23,
    "start_time": "2022-02-03T18:54:54.600Z"
   },
   {
    "duration": 290,
    "start_time": "2022-02-04T04:21:14.428Z"
   },
   {
    "duration": 103,
    "start_time": "2022-02-04T04:22:22.924Z"
   },
   {
    "duration": 260,
    "start_time": "2022-02-04T04:22:29.366Z"
   },
   {
    "duration": 260,
    "start_time": "2022-02-04T04:23:27.998Z"
   },
   {
    "duration": 379,
    "start_time": "2022-02-04T04:27:32.784Z"
   },
   {
    "duration": 276,
    "start_time": "2022-02-04T04:28:29.222Z"
   },
   {
    "duration": 276,
    "start_time": "2022-02-04T04:28:56.361Z"
   },
   {
    "duration": 617,
    "start_time": "2022-02-04T04:30:24.484Z"
   },
   {
    "duration": 261,
    "start_time": "2022-02-04T04:33:26.955Z"
   },
   {
    "duration": 267,
    "start_time": "2022-02-04T04:33:59.692Z"
   },
   {
    "duration": 3,
    "start_time": "2022-02-04T04:34:41.000Z"
   },
   {
    "duration": 3,
    "start_time": "2022-02-04T04:35:06.532Z"
   },
   {
    "duration": 11,
    "start_time": "2022-02-04T04:35:24.559Z"
   },
   {
    "duration": 5,
    "start_time": "2022-02-04T04:35:28.015Z"
   },
   {
    "duration": 249,
    "start_time": "2022-02-04T04:37:52.297Z"
   },
   {
    "duration": 239,
    "start_time": "2022-02-04T04:39:13.007Z"
   },
   {
    "duration": 275,
    "start_time": "2022-02-04T04:39:20.383Z"
   },
   {
    "duration": 290,
    "start_time": "2022-02-04T04:39:42.264Z"
   },
   {
    "duration": 720,
    "start_time": "2022-02-04T04:39:50.636Z"
   },
   {
    "duration": 12,
    "start_time": "2022-02-04T04:39:53.284Z"
   },
   {
    "duration": 11,
    "start_time": "2022-02-04T04:39:54.964Z"
   },
   {
    "duration": 10,
    "start_time": "2022-02-04T04:39:56.797Z"
   },
   {
    "duration": 38,
    "start_time": "2022-02-04T04:40:00.056Z"
   },
   {
    "duration": 5,
    "start_time": "2022-02-04T04:40:01.740Z"
   },
   {
    "duration": 25,
    "start_time": "2022-02-04T04:40:02.572Z"
   },
   {
    "duration": 11,
    "start_time": "2022-02-04T04:40:03.746Z"
   },
   {
    "duration": 14,
    "start_time": "2022-02-04T04:40:05.323Z"
   },
   {
    "duration": 10,
    "start_time": "2022-02-04T04:40:07.190Z"
   },
   {
    "duration": 302,
    "start_time": "2022-02-04T04:40:08.232Z"
   },
   {
    "duration": 15,
    "start_time": "2022-02-04T04:40:30.363Z"
   },
   {
    "duration": 10,
    "start_time": "2022-02-04T04:40:33.490Z"
   },
   {
    "duration": 293,
    "start_time": "2022-02-04T04:40:48.060Z"
   },
   {
    "duration": 18,
    "start_time": "2022-02-04T04:40:49.744Z"
   },
   {
    "duration": 8,
    "start_time": "2022-02-04T04:40:56.135Z"
   },
   {
    "duration": 13,
    "start_time": "2022-02-04T04:40:59.335Z"
   },
   {
    "duration": 24,
    "start_time": "2022-02-04T04:41:00.136Z"
   },
   {
    "duration": 20,
    "start_time": "2022-02-04T04:41:01.395Z"
   },
   {
    "duration": 13,
    "start_time": "2022-02-04T04:41:05.400Z"
   },
   {
    "duration": 257,
    "start_time": "2022-02-04T04:41:59.497Z"
   },
   {
    "duration": 262,
    "start_time": "2022-02-04T04:53:21.114Z"
   },
   {
    "duration": 703,
    "start_time": "2022-02-04T04:54:08.892Z"
   },
   {
    "duration": 13,
    "start_time": "2022-02-04T04:54:11.540Z"
   },
   {
    "duration": 11,
    "start_time": "2022-02-04T04:54:13.332Z"
   },
   {
    "duration": 10,
    "start_time": "2022-02-04T04:54:14.100Z"
   },
   {
    "duration": 35,
    "start_time": "2022-02-04T04:54:17.332Z"
   },
   {
    "duration": 5,
    "start_time": "2022-02-04T04:54:19.261Z"
   },
   {
    "duration": 24,
    "start_time": "2022-02-04T04:54:20.128Z"
   },
   {
    "duration": 14,
    "start_time": "2022-02-04T04:54:21.036Z"
   },
   {
    "duration": 13,
    "start_time": "2022-02-04T04:54:21.984Z"
   },
   {
    "duration": 10,
    "start_time": "2022-02-04T04:54:23.844Z"
   },
   {
    "duration": 322,
    "start_time": "2022-02-04T04:54:24.612Z"
   },
   {
    "duration": 268,
    "start_time": "2022-02-04T04:58:09.712Z"
   },
   {
    "duration": 253,
    "start_time": "2022-02-04T04:59:58.680Z"
   },
   {
    "duration": 22,
    "start_time": "2022-02-04T05:10:39.039Z"
   },
   {
    "duration": 9,
    "start_time": "2022-02-04T05:11:26.119Z"
   },
   {
    "duration": 1637,
    "start_time": "2022-02-04T05:13:02.235Z"
   },
   {
    "duration": 291,
    "start_time": "2022-02-04T05:15:17.020Z"
   },
   {
    "duration": 298,
    "start_time": "2022-02-04T05:15:26.539Z"
   },
   {
    "duration": 687,
    "start_time": "2022-02-04T05:15:33.428Z"
   },
   {
    "duration": 12,
    "start_time": "2022-02-04T05:15:35.192Z"
   },
   {
    "duration": 11,
    "start_time": "2022-02-04T05:15:36.716Z"
   },
   {
    "duration": 10,
    "start_time": "2022-02-04T05:15:37.760Z"
   },
   {
    "duration": 36,
    "start_time": "2022-02-04T05:15:40.104Z"
   },
   {
    "duration": 5,
    "start_time": "2022-02-04T05:15:41.724Z"
   },
   {
    "duration": 22,
    "start_time": "2022-02-04T05:15:42.557Z"
   },
   {
    "duration": 10,
    "start_time": "2022-02-04T05:15:43.492Z"
   },
   {
    "duration": 14,
    "start_time": "2022-02-04T05:15:45.776Z"
   },
   {
    "duration": 10,
    "start_time": "2022-02-04T05:15:48.320Z"
   },
   {
    "duration": 282,
    "start_time": "2022-02-04T05:15:50.660Z"
   },
   {
    "duration": 310,
    "start_time": "2022-02-04T07:09:42.909Z"
   },
   {
    "duration": 713,
    "start_time": "2022-02-04T07:09:53.212Z"
   },
   {
    "duration": 12,
    "start_time": "2022-02-04T07:09:55.383Z"
   },
   {
    "duration": 10,
    "start_time": "2022-02-04T07:09:56.729Z"
   },
   {
    "duration": 9,
    "start_time": "2022-02-04T07:09:57.605Z"
   },
   {
    "duration": 32,
    "start_time": "2022-02-04T07:10:00.929Z"
   },
   {
    "duration": 5,
    "start_time": "2022-02-04T07:10:03.019Z"
   },
   {
    "duration": 21,
    "start_time": "2022-02-04T07:10:03.821Z"
   },
   {
    "duration": 10,
    "start_time": "2022-02-04T07:10:05.503Z"
   },
   {
    "duration": 13,
    "start_time": "2022-02-04T07:10:07.132Z"
   },
   {
    "duration": 9,
    "start_time": "2022-02-04T07:10:09.210Z"
   },
   {
    "duration": 297,
    "start_time": "2022-02-04T07:10:11.301Z"
   },
   {
    "duration": 284,
    "start_time": "2022-02-04T07:10:48.397Z"
   },
   {
    "duration": 9,
    "start_time": "2022-02-04T07:16:26.779Z"
   },
   {
    "duration": 303,
    "start_time": "2022-02-04T07:16:33.791Z"
   },
   {
    "duration": 282,
    "start_time": "2022-02-04T07:16:56.396Z"
   },
   {
    "duration": 10,
    "start_time": "2022-02-04T07:19:48.319Z"
   },
   {
    "duration": 96,
    "start_time": "2022-02-04T07:22:18.064Z"
   },
   {
    "duration": 89,
    "start_time": "2022-02-04T07:22:38.942Z"
   },
   {
    "duration": 100,
    "start_time": "2022-02-04T07:23:17.428Z"
   },
   {
    "duration": 10,
    "start_time": "2022-02-04T07:23:39.296Z"
   },
   {
    "duration": 10,
    "start_time": "2022-02-04T07:24:48.948Z"
   },
   {
    "duration": 10,
    "start_time": "2022-02-04T07:25:10.440Z"
   },
   {
    "duration": 10,
    "start_time": "2022-02-04T07:26:35.312Z"
   },
   {
    "duration": 10,
    "start_time": "2022-02-04T07:26:41.792Z"
   },
   {
    "duration": 11,
    "start_time": "2022-02-04T07:27:00.740Z"
   },
   {
    "duration": 9,
    "start_time": "2022-02-04T07:27:14.793Z"
   },
   {
    "duration": 7,
    "start_time": "2022-02-04T07:27:30.524Z"
   },
   {
    "duration": 6,
    "start_time": "2022-02-04T07:27:44.108Z"
   },
   {
    "duration": 12,
    "start_time": "2022-02-04T07:29:26.529Z"
   },
   {
    "duration": 23,
    "start_time": "2022-02-04T07:51:53.817Z"
   },
   {
    "duration": 13,
    "start_time": "2022-02-04T07:52:14.015Z"
   },
   {
    "duration": 23,
    "start_time": "2022-02-04T07:52:15.287Z"
   },
   {
    "duration": 23,
    "start_time": "2022-02-04T07:53:08.377Z"
   },
   {
    "duration": 13,
    "start_time": "2022-02-04T07:53:16.839Z"
   },
   {
    "duration": 16,
    "start_time": "2022-02-04T07:53:17.957Z"
   },
   {
    "duration": 11,
    "start_time": "2022-02-04T07:53:19.681Z"
   },
   {
    "duration": 7,
    "start_time": "2022-02-04T07:53:20.309Z"
   },
   {
    "duration": 18,
    "start_time": "2022-02-04T07:53:21.989Z"
   },
   {
    "duration": 9,
    "start_time": "2022-02-04T07:53:23.781Z"
   },
   {
    "duration": 13,
    "start_time": "2022-02-04T07:53:24.473Z"
   },
   {
    "duration": 23,
    "start_time": "2022-02-04T07:53:25.273Z"
   },
   {
    "duration": 18,
    "start_time": "2022-02-04T07:53:26.643Z"
   },
   {
    "duration": 12,
    "start_time": "2022-02-04T07:53:27.753Z"
   },
   {
    "duration": 12,
    "start_time": "2022-02-04T07:53:28.938Z"
   },
   {
    "duration": 20,
    "start_time": "2022-02-04T07:54:29.297Z"
   },
   {
    "duration": 278,
    "start_time": "2022-02-04T09:07:43.068Z"
   },
   {
    "duration": 265,
    "start_time": "2022-02-04T09:08:14.059Z"
   },
   {
    "duration": 4,
    "start_time": "2022-02-04T09:09:18.563Z"
   },
   {
    "duration": 4,
    "start_time": "2022-02-04T09:10:44.579Z"
   },
   {
    "duration": 5,
    "start_time": "2022-02-04T09:10:53.023Z"
   },
   {
    "duration": 256,
    "start_time": "2022-02-04T09:11:45.671Z"
   },
   {
    "duration": 276,
    "start_time": "2022-02-04T09:12:03.175Z"
   },
   {
    "duration": 266,
    "start_time": "2022-02-04T09:13:44.323Z"
   },
   {
    "duration": 12,
    "start_time": "2022-02-04T09:15:33.703Z"
   },
   {
    "duration": 28,
    "start_time": "2022-02-04T09:15:46.979Z"
   },
   {
    "duration": 338,
    "start_time": "2022-02-05T10:23:50.730Z"
   },
   {
    "duration": 672,
    "start_time": "2022-02-05T10:24:00.057Z"
   },
   {
    "duration": 10,
    "start_time": "2022-02-05T10:24:03.519Z"
   },
   {
    "duration": 9,
    "start_time": "2022-02-05T10:24:05.249Z"
   },
   {
    "duration": 9,
    "start_time": "2022-02-05T10:24:06.807Z"
   },
   {
    "duration": 27,
    "start_time": "2022-02-05T10:24:12.390Z"
   },
   {
    "duration": 5,
    "start_time": "2022-02-05T10:24:14.608Z"
   },
   {
    "duration": 5,
    "start_time": "2022-02-05T10:24:15.392Z"
   },
   {
    "duration": 9,
    "start_time": "2022-02-05T10:24:16.459Z"
   },
   {
    "duration": 322,
    "start_time": "2022-02-05T10:24:23.388Z"
   },
   {
    "duration": 5,
    "start_time": "2022-02-05T10:24:45.202Z"
   },
   {
    "duration": 347,
    "start_time": "2022-02-05T10:24:45.935Z"
   },
   {
    "duration": -211,
    "start_time": "2022-02-05T10:25:22.468Z"
   },
   {
    "duration": -213,
    "start_time": "2022-02-05T10:25:22.471Z"
   },
   {
    "duration": -215,
    "start_time": "2022-02-05T10:25:22.474Z"
   },
   {
    "duration": -217,
    "start_time": "2022-02-05T10:25:22.477Z"
   },
   {
    "duration": -220,
    "start_time": "2022-02-05T10:25:22.481Z"
   },
   {
    "duration": -221,
    "start_time": "2022-02-05T10:25:22.483Z"
   },
   {
    "duration": -222,
    "start_time": "2022-02-05T10:25:22.485Z"
   },
   {
    "duration": -224,
    "start_time": "2022-02-05T10:25:22.488Z"
   },
   {
    "duration": 17,
    "start_time": "2022-02-05T10:25:22.336Z"
   },
   {
    "duration": 14,
    "start_time": "2022-02-05T10:25:22.856Z"
   },
   {
    "duration": 11,
    "start_time": "2022-02-05T10:25:28.432Z"
   },
   {
    "duration": 10,
    "start_time": "2022-02-05T10:25:29.744Z"
   },
   {
    "duration": 16,
    "start_time": "2022-02-05T10:25:30.943Z"
   },
   {
    "duration": 3,
    "start_time": "2022-02-05T10:25:36.823Z"
   },
   {
    "duration": 26,
    "start_time": "2022-02-05T10:25:37.869Z"
   },
   {
    "duration": 297,
    "start_time": "2022-02-05T10:26:49.158Z"
   },
   {
    "duration": 13,
    "start_time": "2022-02-05T10:27:16.138Z"
   },
   {
    "duration": 10,
    "start_time": "2022-02-05T10:27:25.550Z"
   },
   {
    "duration": 673,
    "start_time": "2022-02-05T10:28:29.350Z"
   },
   {
    "duration": 11,
    "start_time": "2022-02-05T10:28:30.931Z"
   },
   {
    "duration": 9,
    "start_time": "2022-02-05T10:28:32.563Z"
   },
   {
    "duration": 8,
    "start_time": "2022-02-05T10:28:37.212Z"
   },
   {
    "duration": 28,
    "start_time": "2022-02-05T10:28:42.431Z"
   },
   {
    "duration": 4,
    "start_time": "2022-02-05T10:28:43.940Z"
   },
   {
    "duration": 367,
    "start_time": "2022-02-05T10:28:44.747Z"
   },
   {
    "duration": 9,
    "start_time": "2022-02-05T10:29:28.931Z"
   },
   {
    "duration": 11,
    "start_time": "2022-02-05T10:29:38.455Z"
   },
   {
    "duration": 10,
    "start_time": "2022-02-05T10:29:44.916Z"
   },
   {
    "duration": 5,
    "start_time": "2022-02-05T10:30:16.875Z"
   },
   {
    "duration": 332,
    "start_time": "2022-02-05T10:30:17.547Z"
   },
   {
    "duration": 21,
    "start_time": "2022-02-05T10:30:24.324Z"
   },
   {
    "duration": 10,
    "start_time": "2022-02-05T10:30:34.024Z"
   },
   {
    "duration": 13,
    "start_time": "2022-02-05T10:30:36.411Z"
   },
   {
    "duration": 9,
    "start_time": "2022-02-05T10:30:37.908Z"
   },
   {
    "duration": 6,
    "start_time": "2022-02-05T10:33:59.961Z"
   },
   {
    "duration": 16,
    "start_time": "2022-02-05T10:34:33.990Z"
   },
   {
    "duration": 547,
    "start_time": "2022-02-05T10:54:30.149Z"
   },
   {
    "duration": 657,
    "start_time": "2022-02-05T10:58:07.992Z"
   },
   {
    "duration": 4417,
    "start_time": "2022-02-05T11:08:03.293Z"
   },
   {
    "duration": -150,
    "start_time": "2022-02-05T11:09:55.583Z"
   },
   {
    "duration": 5107,
    "start_time": "2022-02-05T11:09:58.058Z"
   },
   {
    "duration": 4690,
    "start_time": "2022-02-05T11:10:13.045Z"
   },
   {
    "duration": 4573,
    "start_time": "2022-02-05T11:10:22.751Z"
   },
   {
    "duration": 4112,
    "start_time": "2022-02-05T11:11:41.264Z"
   },
   {
    "duration": 4503,
    "start_time": "2022-02-05T11:12:48.811Z"
   },
   {
    "duration": 424,
    "start_time": "2022-02-05T11:14:29.478Z"
   },
   {
    "duration": 298,
    "start_time": "2022-02-05T11:14:36.524Z"
   },
   {
    "duration": 658,
    "start_time": "2022-02-05T11:14:45.112Z"
   },
   {
    "duration": 10,
    "start_time": "2022-02-05T11:14:49.016Z"
   },
   {
    "duration": 10,
    "start_time": "2022-02-05T11:14:50.610Z"
   },
   {
    "duration": 8,
    "start_time": "2022-02-05T11:14:51.360Z"
   },
   {
    "duration": 29,
    "start_time": "2022-02-05T11:14:54.526Z"
   },
   {
    "duration": 4,
    "start_time": "2022-02-05T11:15:00.330Z"
   },
   {
    "duration": 24,
    "start_time": "2022-02-05T11:15:01.140Z"
   },
   {
    "duration": 10,
    "start_time": "2022-02-05T11:15:01.981Z"
   },
   {
    "duration": 14,
    "start_time": "2022-02-05T11:15:02.730Z"
   },
   {
    "duration": 10,
    "start_time": "2022-02-05T11:15:04.830Z"
   },
   {
    "duration": 6,
    "start_time": "2022-02-05T11:15:05.526Z"
   },
   {
    "duration": 15,
    "start_time": "2022-02-05T11:15:06.930Z"
   },
   {
    "duration": 7,
    "start_time": "2022-02-05T11:15:08.562Z"
   },
   {
    "duration": 11,
    "start_time": "2022-02-05T11:15:09.178Z"
   },
   {
    "duration": 18,
    "start_time": "2022-02-05T11:15:09.723Z"
   },
   {
    "duration": 14,
    "start_time": "2022-02-05T11:15:10.258Z"
   },
   {
    "duration": 10,
    "start_time": "2022-02-05T11:15:12.482Z"
   },
   {
    "duration": 10,
    "start_time": "2022-02-05T11:15:13.198Z"
   },
   {
    "duration": 15,
    "start_time": "2022-02-05T11:15:13.870Z"
   },
   {
    "duration": 3,
    "start_time": "2022-02-05T11:15:16.062Z"
   },
   {
    "duration": 24,
    "start_time": "2022-02-05T11:15:16.919Z"
   },
   {
    "duration": 3971,
    "start_time": "2022-02-05T11:15:26.270Z"
   },
   {
    "duration": 65,
    "start_time": "2022-02-05T11:20:24.940Z"
   },
   {
    "duration": 14,
    "start_time": "2022-02-05T11:20:26.570Z"
   },
   {
    "duration": 8,
    "start_time": "2022-02-05T11:20:27.319Z"
   },
   {
    "duration": 8,
    "start_time": "2022-02-05T11:20:27.511Z"
   },
   {
    "duration": 29,
    "start_time": "2022-02-05T11:20:28.358Z"
   },
   {
    "duration": 4,
    "start_time": "2022-02-05T11:20:28.799Z"
   },
   {
    "duration": 16,
    "start_time": "2022-02-05T11:20:29.007Z"
   },
   {
    "duration": 8,
    "start_time": "2022-02-05T11:20:29.223Z"
   },
   {
    "duration": 10,
    "start_time": "2022-02-05T11:20:29.438Z"
   },
   {
    "duration": 9,
    "start_time": "2022-02-05T11:20:29.910Z"
   },
   {
    "duration": 5,
    "start_time": "2022-02-05T11:20:30.131Z"
   },
   {
    "duration": 14,
    "start_time": "2022-02-05T11:20:30.607Z"
   },
   {
    "duration": 6,
    "start_time": "2022-02-05T11:20:31.095Z"
   },
   {
    "duration": 10,
    "start_time": "2022-02-05T11:20:31.303Z"
   },
   {
    "duration": 18,
    "start_time": "2022-02-05T11:20:31.527Z"
   },
   {
    "duration": 15,
    "start_time": "2022-02-05T11:20:31.799Z"
   },
   {
    "duration": 11,
    "start_time": "2022-02-05T11:20:33.006Z"
   },
   {
    "duration": 10,
    "start_time": "2022-02-05T11:20:33.347Z"
   },
   {
    "duration": 16,
    "start_time": "2022-02-05T11:20:33.606Z"
   },
   {
    "duration": 4,
    "start_time": "2022-02-05T11:20:35.183Z"
   },
   {
    "duration": 22,
    "start_time": "2022-02-05T11:20:35.583Z"
   },
   {
    "duration": 4081,
    "start_time": "2022-02-05T11:24:49.154Z"
   },
   {
    "duration": 4391,
    "start_time": "2022-02-05T11:25:48.558Z"
   },
   {
    "duration": 104,
    "start_time": "2022-02-05T11:54:59.727Z"
   },
   {
    "duration": 341,
    "start_time": "2022-02-05T11:56:30.781Z"
   },
   {
    "duration": 18,
    "start_time": "2022-02-05T11:56:52.865Z"
   },
   {
    "duration": 18,
    "start_time": "2022-02-05T11:57:37.838Z"
   },
   {
    "duration": 323,
    "start_time": "2022-02-05T12:32:46.771Z"
   },
   {
    "duration": -165,
    "start_time": "2022-02-05T12:33:10.808Z"
   },
   {
    "duration": 8292,
    "start_time": "2022-02-05T12:33:24.521Z"
   },
   {
    "duration": 18,
    "start_time": "2022-02-05T12:38:51.453Z"
   },
   {
    "duration": 286,
    "start_time": "2022-02-05T12:47:39.758Z"
   },
   {
    "duration": -176,
    "start_time": "2022-02-05T12:50:00.179Z"
   },
   {
    "duration": 205,
    "start_time": "2022-02-05T12:51:47.761Z"
   },
   {
    "duration": 102,
    "start_time": "2022-02-05T12:53:56.676Z"
   },
   {
    "duration": 110,
    "start_time": "2022-02-05T12:54:09.877Z"
   },
   {
    "duration": 7956,
    "start_time": "2022-02-05T12:56:03.005Z"
   },
   {
    "duration": 8034,
    "start_time": "2022-02-05T12:56:29.739Z"
   },
   {
    "duration": 329,
    "start_time": "2022-02-05T12:57:00.268Z"
   },
   {
    "duration": 329,
    "start_time": "2022-02-05T12:57:21.667Z"
   },
   {
    "duration": 200,
    "start_time": "2022-02-05T12:57:33.821Z"
   },
   {
    "duration": 166,
    "start_time": "2022-02-05T12:58:36.793Z"
   },
   {
    "duration": 18,
    "start_time": "2022-02-05T13:20:44.819Z"
   },
   {
    "duration": 18,
    "start_time": "2022-02-05T13:27:16.958Z"
   },
   {
    "duration": 18,
    "start_time": "2022-02-05T13:30:35.047Z"
   },
   {
    "duration": 4009,
    "start_time": "2022-02-05T13:35:13.501Z"
   },
   {
    "duration": 20,
    "start_time": "2022-02-05T13:35:17.512Z"
   },
   {
    "duration": 18,
    "start_time": "2022-02-05T13:35:18.988Z"
   },
   {
    "duration": 18,
    "start_time": "2022-02-05T13:35:20.500Z"
   },
   {
    "duration": 18,
    "start_time": "2022-02-05T13:35:21.848Z"
   },
   {
    "duration": 379,
    "start_time": "2022-02-05T14:40:22.422Z"
   },
   {
    "duration": 109,
    "start_time": "2022-02-05T14:41:11.066Z"
   },
   {
    "duration": 102,
    "start_time": "2022-02-05T14:41:54.214Z"
   },
   {
    "duration": 119,
    "start_time": "2022-02-05T14:46:13.646Z"
   },
   {
    "duration": 102,
    "start_time": "2022-02-05T14:47:28.864Z"
   },
   {
    "duration": 3835,
    "start_time": "2022-02-05T14:48:17.714Z"
   },
   {
    "duration": 115,
    "start_time": "2022-02-05T14:48:21.551Z"
   },
   {
    "duration": 105,
    "start_time": "2022-02-05T14:49:56.109Z"
   },
   {
    "duration": 128,
    "start_time": "2022-02-05T14:50:06.902Z"
   },
   {
    "duration": 351,
    "start_time": "2022-02-05T14:52:21.501Z"
   },
   {
    "duration": 636,
    "start_time": "2022-02-05T14:52:31.271Z"
   },
   {
    "duration": 9,
    "start_time": "2022-02-05T14:52:34.009Z"
   },
   {
    "duration": 10,
    "start_time": "2022-02-05T14:52:35.729Z"
   },
   {
    "duration": 9,
    "start_time": "2022-02-05T14:52:36.494Z"
   },
   {
    "duration": 29,
    "start_time": "2022-02-05T14:52:39.489Z"
   },
   {
    "duration": 5,
    "start_time": "2022-02-05T14:52:40.977Z"
   },
   {
    "duration": 20,
    "start_time": "2022-02-05T14:52:42.031Z"
   },
   {
    "duration": 9,
    "start_time": "2022-02-05T14:52:42.889Z"
   },
   {
    "duration": 10,
    "start_time": "2022-02-05T14:52:43.713Z"
   },
   {
    "duration": 9,
    "start_time": "2022-02-05T14:52:45.345Z"
   },
   {
    "duration": 6,
    "start_time": "2022-02-05T14:52:45.951Z"
   },
   {
    "duration": 15,
    "start_time": "2022-02-05T14:52:47.213Z"
   },
   {
    "duration": 7,
    "start_time": "2022-02-05T14:52:48.420Z"
   },
   {
    "duration": 10,
    "start_time": "2022-02-05T14:52:49.057Z"
   },
   {
    "duration": 18,
    "start_time": "2022-02-05T14:52:49.593Z"
   },
   {
    "duration": 15,
    "start_time": "2022-02-05T14:52:50.221Z"
   },
   {
    "duration": 11,
    "start_time": "2022-02-05T14:52:51.793Z"
   },
   {
    "duration": 11,
    "start_time": "2022-02-05T14:52:52.481Z"
   },
   {
    "duration": 15,
    "start_time": "2022-02-05T14:52:54.494Z"
   },
   {
    "duration": 4,
    "start_time": "2022-02-05T14:52:56.508Z"
   },
   {
    "duration": 26,
    "start_time": "2022-02-05T14:52:57.201Z"
   },
   {
    "duration": 3920,
    "start_time": "2022-02-05T14:52:58.705Z"
   },
   {
    "duration": 138,
    "start_time": "2022-02-05T14:53:02.627Z"
   },
   {
    "duration": -150,
    "start_time": "2022-02-05T14:53:02.916Z"
   },
   {
    "duration": 107,
    "start_time": "2022-02-05T14:58:27.448Z"
   },
   {
    "duration": 852,
    "start_time": "2022-02-05T15:02:20.648Z"
   },
   {
    "duration": 61,
    "start_time": "2022-02-05T15:03:31.503Z"
   },
   {
    "duration": 10,
    "start_time": "2022-02-05T15:03:33.193Z"
   },
   {
    "duration": 10,
    "start_time": "2022-02-05T15:03:34.361Z"
   },
   {
    "duration": 9,
    "start_time": "2022-02-05T15:03:34.961Z"
   },
   {
    "duration": 28,
    "start_time": "2022-02-05T15:03:37.361Z"
   },
   {
    "duration": 5,
    "start_time": "2022-02-05T15:03:38.468Z"
   },
   {
    "duration": 20,
    "start_time": "2022-02-05T15:03:39.261Z"
   },
   {
    "duration": 8,
    "start_time": "2022-02-05T15:03:39.796Z"
   },
   {
    "duration": 12,
    "start_time": "2022-02-05T15:03:40.389Z"
   },
   {
    "duration": 9,
    "start_time": "2022-02-05T15:03:42.157Z"
   },
   {
    "duration": 5,
    "start_time": "2022-02-05T15:03:43.205Z"
   },
   {
    "duration": 16,
    "start_time": "2022-02-05T15:03:44.735Z"
   },
   {
    "duration": 8,
    "start_time": "2022-02-05T15:03:45.937Z"
   },
   {
    "duration": 10,
    "start_time": "2022-02-05T15:03:46.613Z"
   },
   {
    "duration": 18,
    "start_time": "2022-02-05T15:03:47.129Z"
   },
   {
    "duration": 16,
    "start_time": "2022-02-05T15:03:47.768Z"
   },
   {
    "duration": 11,
    "start_time": "2022-02-05T15:03:49.392Z"
   },
   {
    "duration": 10,
    "start_time": "2022-02-05T15:03:50.057Z"
   },
   {
    "duration": 15,
    "start_time": "2022-02-05T15:03:52.101Z"
   },
   {
    "duration": 4,
    "start_time": "2022-02-05T15:03:53.821Z"
   },
   {
    "duration": 22,
    "start_time": "2022-02-05T15:03:54.425Z"
   },
   {
    "duration": 3987,
    "start_time": "2022-02-05T15:03:55.942Z"
   },
   {
    "duration": 555,
    "start_time": "2022-02-05T15:03:59.931Z"
   },
   {
    "duration": 21,
    "start_time": "2022-02-05T15:04:21.073Z"
   },
   {
    "duration": 538,
    "start_time": "2022-02-05T15:07:04.444Z"
   },
   {
    "duration": 19,
    "start_time": "2022-02-05T15:13:14.004Z"
   },
   {
    "duration": 7,
    "start_time": "2022-02-05T15:18:36.638Z"
   },
   {
    "duration": 520,
    "start_time": "2022-02-05T15:23:08.237Z"
   },
   {
    "duration": 540,
    "start_time": "2022-02-05T15:23:36.679Z"
   },
   {
    "duration": 6,
    "start_time": "2022-02-05T15:24:22.715Z"
   },
   {
    "duration": 19,
    "start_time": "2022-02-05T15:24:23.295Z"
   },
   {
    "duration": 11,
    "start_time": "2022-02-05T15:24:24.283Z"
   },
   {
    "duration": 14,
    "start_time": "2022-02-05T15:24:25.005Z"
   },
   {
    "duration": 10,
    "start_time": "2022-02-05T15:24:26.309Z"
   },
   {
    "duration": 7,
    "start_time": "2022-02-05T15:24:26.973Z"
   },
   {
    "duration": 20,
    "start_time": "2022-02-05T15:24:28.189Z"
   },
   {
    "duration": 8,
    "start_time": "2022-02-05T15:24:29.701Z"
   },
   {
    "duration": 11,
    "start_time": "2022-02-05T15:24:30.349Z"
   },
   {
    "duration": 23,
    "start_time": "2022-02-05T15:24:30.909Z"
   },
   {
    "duration": 17,
    "start_time": "2022-02-05T15:24:31.493Z"
   },
   {
    "duration": 10,
    "start_time": "2022-02-05T15:24:33.788Z"
   },
   {
    "duration": 10,
    "start_time": "2022-02-05T15:24:34.413Z"
   },
   {
    "duration": 17,
    "start_time": "2022-02-05T15:24:35.155Z"
   },
   {
    "duration": 4,
    "start_time": "2022-02-05T15:24:36.813Z"
   },
   {
    "duration": 22,
    "start_time": "2022-02-05T15:24:37.307Z"
   },
   {
    "duration": 3909,
    "start_time": "2022-02-05T15:24:38.437Z"
   },
   {
    "duration": 540,
    "start_time": "2022-02-05T15:24:42.348Z"
   },
   {
    "duration": 11,
    "start_time": "2022-02-05T15:27:23.517Z"
   },
   {
    "duration": 598,
    "start_time": "2022-02-05T15:31:23.527Z"
   },
   {
    "duration": 11,
    "start_time": "2022-02-05T15:31:25.568Z"
   },
   {
    "duration": 9,
    "start_time": "2022-02-05T15:31:26.778Z"
   },
   {
    "duration": 9,
    "start_time": "2022-02-05T15:31:27.291Z"
   },
   {
    "duration": 29,
    "start_time": "2022-02-05T15:31:40.409Z"
   },
   {
    "duration": 7,
    "start_time": "2022-02-05T15:31:41.443Z"
   },
   {
    "duration": 18,
    "start_time": "2022-02-05T15:31:42.185Z"
   },
   {
    "duration": 9,
    "start_time": "2022-02-05T15:31:42.721Z"
   },
   {
    "duration": 13,
    "start_time": "2022-02-05T15:31:43.240Z"
   },
   {
    "duration": 10,
    "start_time": "2022-02-05T15:31:43.716Z"
   },
   {
    "duration": 11,
    "start_time": "2022-02-05T15:31:44.832Z"
   },
   {
    "duration": 6,
    "start_time": "2022-02-05T15:31:45.401Z"
   },
   {
    "duration": 15,
    "start_time": "2022-02-05T15:31:46.409Z"
   },
   {
    "duration": 7,
    "start_time": "2022-02-05T15:31:46.928Z"
   },
   {
    "duration": 10,
    "start_time": "2022-02-05T15:31:47.473Z"
   },
   {
    "duration": 19,
    "start_time": "2022-02-05T15:31:48.073Z"
   },
   {
    "duration": 15,
    "start_time": "2022-02-05T15:31:48.651Z"
   },
   {
    "duration": 12,
    "start_time": "2022-02-05T15:31:54.201Z"
   },
   {
    "duration": 12,
    "start_time": "2022-02-05T15:31:54.937Z"
   },
   {
    "duration": 23,
    "start_time": "2022-02-05T15:31:55.521Z"
   },
   {
    "duration": 4,
    "start_time": "2022-02-05T15:31:57.316Z"
   },
   {
    "duration": 22,
    "start_time": "2022-02-05T15:31:57.883Z"
   },
   {
    "duration": 3807,
    "start_time": "2022-02-05T15:31:59.497Z"
   },
   {
    "duration": 614,
    "start_time": "2022-02-05T15:32:03.306Z"
   },
   {
    "duration": 20,
    "start_time": "2022-02-05T15:34:13.788Z"
   },
   {
    "duration": 22,
    "start_time": "2022-02-05T15:35:52.104Z"
   },
   {
    "duration": 18,
    "start_time": "2022-02-05T15:36:09.298Z"
   },
   {
    "duration": 4,
    "start_time": "2022-02-05T15:40:15.912Z"
   },
   {
    "duration": 18,
    "start_time": "2022-02-05T15:42:00.842Z"
   },
   {
    "duration": 18,
    "start_time": "2022-02-05T15:42:03.227Z"
   },
   {
    "duration": 18,
    "start_time": "2022-02-05T15:42:12.084Z"
   },
   {
    "duration": 19,
    "start_time": "2022-02-05T15:42:13.537Z"
   },
   {
    "duration": 321,
    "start_time": "2022-02-05T15:45:14.259Z"
   },
   {
    "duration": 323,
    "start_time": "2022-02-05T15:46:11.027Z"
   },
   {
    "duration": 314,
    "start_time": "2022-02-05T15:50:15.943Z"
   },
   {
    "duration": 104,
    "start_time": "2022-02-05T15:50:38.699Z"
   },
   {
    "duration": 62,
    "start_time": "2022-02-05T15:50:56.595Z"
   },
   {
    "duration": 9,
    "start_time": "2022-02-05T15:50:57.969Z"
   },
   {
    "duration": 9,
    "start_time": "2022-02-05T15:50:58.799Z"
   },
   {
    "duration": 8,
    "start_time": "2022-02-05T15:50:59.323Z"
   },
   {
    "duration": 29,
    "start_time": "2022-02-05T15:51:01.077Z"
   },
   {
    "duration": 6,
    "start_time": "2022-02-05T15:51:01.905Z"
   },
   {
    "duration": 19,
    "start_time": "2022-02-05T15:51:02.224Z"
   },
   {
    "duration": 9,
    "start_time": "2022-02-05T15:51:02.632Z"
   },
   {
    "duration": 11,
    "start_time": "2022-02-05T15:51:03.065Z"
   },
   {
    "duration": 9,
    "start_time": "2022-02-05T15:51:03.865Z"
   },
   {
    "duration": 7,
    "start_time": "2022-02-05T15:51:04.220Z"
   },
   {
    "duration": 16,
    "start_time": "2022-02-05T15:51:05.022Z"
   },
   {
    "duration": 7,
    "start_time": "2022-02-05T15:51:05.393Z"
   },
   {
    "duration": 10,
    "start_time": "2022-02-05T15:51:05.849Z"
   },
   {
    "duration": 19,
    "start_time": "2022-02-05T15:51:06.245Z"
   },
   {
    "duration": 16,
    "start_time": "2022-02-05T15:51:06.672Z"
   },
   {
    "duration": 11,
    "start_time": "2022-02-05T15:51:08.243Z"
   },
   {
    "duration": 10,
    "start_time": "2022-02-05T15:51:08.613Z"
   },
   {
    "duration": 20,
    "start_time": "2022-02-05T15:51:09.172Z"
   },
   {
    "duration": 4,
    "start_time": "2022-02-05T15:51:11.124Z"
   },
   {
    "duration": 24,
    "start_time": "2022-02-05T15:51:11.129Z"
   },
   {
    "duration": 3667,
    "start_time": "2022-02-05T15:51:11.728Z"
   },
   {
    "duration": 22,
    "start_time": "2022-02-05T15:51:15.397Z"
   },
   {
    "duration": 102,
    "start_time": "2022-02-05T15:51:15.421Z"
   },
   {
    "duration": 115,
    "start_time": "2022-02-05T15:51:42.553Z"
   },
   {
    "duration": 19,
    "start_time": "2022-02-05T15:52:01.473Z"
   },
   {
    "duration": 18,
    "start_time": "2022-02-05T15:52:14.469Z"
   },
   {
    "duration": 20,
    "start_time": "2022-02-05T15:52:15.867Z"
   },
   {
    "duration": 122,
    "start_time": "2022-02-05T16:07:07.608Z"
   },
   {
    "duration": 328,
    "start_time": "2022-02-05T16:07:23.596Z"
   },
   {
    "duration": 322,
    "start_time": "2022-02-05T16:07:58.961Z"
   },
   {
    "duration": 526,
    "start_time": "2022-02-05T16:08:31.092Z"
   },
   {
    "duration": 20,
    "start_time": "2022-02-05T16:29:44.473Z"
   },
   {
    "duration": 17,
    "start_time": "2022-02-05T16:30:23.077Z"
   },
   {
    "duration": 17,
    "start_time": "2022-02-05T16:30:57.445Z"
   },
   {
    "duration": 101,
    "start_time": "2022-02-05T16:33:05.005Z"
   },
   {
    "duration": 18,
    "start_time": "2022-02-05T16:33:31.401Z"
   },
   {
    "duration": 17,
    "start_time": "2022-02-05T16:33:34.441Z"
   },
   {
    "duration": 12,
    "start_time": "2022-02-05T16:38:52.260Z"
   },
   {
    "duration": 230,
    "start_time": "2022-02-05T16:40:43.584Z"
   },
   {
    "duration": 105,
    "start_time": "2022-02-05T16:40:51.048Z"
   },
   {
    "duration": 321,
    "start_time": "2022-02-05T16:40:57.088Z"
   },
   {
    "duration": 181,
    "start_time": "2022-02-05T16:44:43.764Z"
   },
   {
    "duration": 106,
    "start_time": "2022-02-05T16:44:57.924Z"
   },
   {
    "duration": 104,
    "start_time": "2022-02-05T16:45:22.988Z"
   },
   {
    "duration": 62,
    "start_time": "2022-02-05T16:45:27.476Z"
   },
   {
    "duration": 11,
    "start_time": "2022-02-05T16:45:28.476Z"
   },
   {
    "duration": 10,
    "start_time": "2022-02-05T16:45:29.732Z"
   },
   {
    "duration": 103,
    "start_time": "2022-02-05T16:45:30.414Z"
   },
   {
    "duration": 128,
    "start_time": "2022-02-05T16:47:08.924Z"
   },
   {
    "duration": 7902,
    "start_time": "2022-02-05T16:47:22.662Z"
   },
   {
    "duration": 7980,
    "start_time": "2022-02-05T16:48:07.832Z"
   },
   {
    "duration": 62,
    "start_time": "2022-02-05T16:48:26.487Z"
   },
   {
    "duration": 10,
    "start_time": "2022-02-05T16:48:28.262Z"
   },
   {
    "duration": 10,
    "start_time": "2022-02-05T16:48:48.023Z"
   },
   {
    "duration": 7897,
    "start_time": "2022-02-05T16:48:49.931Z"
   },
   {
    "duration": 102,
    "start_time": "2022-02-05T16:50:00.604Z"
   },
   {
    "duration": 101,
    "start_time": "2022-02-05T16:50:15.495Z"
   },
   {
    "duration": 7,
    "start_time": "2022-02-05T16:50:49.045Z"
   },
   {
    "duration": 8,
    "start_time": "2022-02-05T16:51:29.427Z"
   },
   {
    "duration": 7,
    "start_time": "2022-02-05T16:55:18.512Z"
   },
   {
    "duration": 3858,
    "start_time": "2022-02-05T16:57:15.183Z"
   },
   {
    "duration": 334,
    "start_time": "2022-02-05T16:57:56.657Z"
   },
   {
    "duration": 337,
    "start_time": "2022-02-05T17:00:33.807Z"
   },
   {
    "duration": 313,
    "start_time": "2022-02-05T17:01:22.569Z"
   },
   {
    "duration": 331,
    "start_time": "2022-02-05T17:01:40.041Z"
   },
   {
    "duration": 10,
    "start_time": "2022-02-05T17:01:53.673Z"
   },
   {
    "duration": 315,
    "start_time": "2022-02-05T17:27:51.129Z"
   },
   {
    "duration": 6,
    "start_time": "2022-02-05T17:28:18.879Z"
   },
   {
    "duration": 8,
    "start_time": "2022-02-05T17:37:27.977Z"
   },
   {
    "duration": 7,
    "start_time": "2022-02-05T17:38:15.489Z"
   },
   {
    "duration": 4995,
    "start_time": "2022-02-05T17:46:45.725Z"
   },
   {
    "duration": 105,
    "start_time": "2022-02-05T17:47:23.966Z"
   },
   {
    "duration": 105,
    "start_time": "2022-02-05T17:47:49.626Z"
   },
   {
    "duration": 4987,
    "start_time": "2022-02-05T17:48:10.037Z"
   },
   {
    "duration": 124,
    "start_time": "2022-02-05T17:48:33.169Z"
   },
   {
    "duration": 112,
    "start_time": "2022-02-05T17:48:48.897Z"
   },
   {
    "duration": 146,
    "start_time": "2022-02-05T17:49:01.345Z"
   },
   {
    "duration": 7,
    "start_time": "2022-02-05T17:50:23.484Z"
   },
   {
    "duration": 124,
    "start_time": "2022-02-05T17:52:49.104Z"
   },
   {
    "duration": 127,
    "start_time": "2022-02-05T17:53:10.315Z"
   },
   {
    "duration": 101,
    "start_time": "2022-02-05T17:53:28.299Z"
   },
   {
    "duration": 104,
    "start_time": "2022-02-05T17:54:43.901Z"
   },
   {
    "duration": 111,
    "start_time": "2022-02-05T17:55:20.108Z"
   },
   {
    "duration": 114,
    "start_time": "2022-02-05T17:59:46.604Z"
   },
   {
    "duration": 109,
    "start_time": "2022-02-05T18:00:00.511Z"
   },
   {
    "duration": 120,
    "start_time": "2022-02-05T18:00:54.686Z"
   },
   {
    "duration": 104,
    "start_time": "2022-02-05T18:01:10.983Z"
   },
   {
    "duration": 109,
    "start_time": "2022-02-05T18:01:27.030Z"
   },
   {
    "duration": 99,
    "start_time": "2022-02-05T18:01:47.372Z"
   },
   {
    "duration": 108,
    "start_time": "2022-02-05T18:02:04.062Z"
   },
   {
    "duration": 114,
    "start_time": "2022-02-05T18:02:10.988Z"
   },
   {
    "duration": 103,
    "start_time": "2022-02-05T18:02:20.305Z"
   },
   {
    "duration": 132,
    "start_time": "2022-02-05T18:02:31.234Z"
   },
   {
    "duration": 109,
    "start_time": "2022-02-05T18:04:19.406Z"
   },
   {
    "duration": 103,
    "start_time": "2022-02-05T18:04:52.146Z"
   },
   {
    "duration": 97,
    "start_time": "2022-02-05T18:05:52.998Z"
   },
   {
    "duration": 112,
    "start_time": "2022-02-05T18:06:05.828Z"
   },
   {
    "duration": 112,
    "start_time": "2022-02-05T18:06:13.882Z"
   },
   {
    "duration": 91,
    "start_time": "2022-02-05T18:12:03.986Z"
   },
   {
    "duration": 21,
    "start_time": "2022-02-05T18:17:26.998Z"
   },
   {
    "duration": 106,
    "start_time": "2022-02-05T18:28:40.519Z"
   },
   {
    "duration": 98,
    "start_time": "2022-02-05T18:29:44.393Z"
   },
   {
    "duration": 112,
    "start_time": "2022-02-05T18:31:32.750Z"
   },
   {
    "duration": 108,
    "start_time": "2022-02-05T18:31:42.739Z"
   },
   {
    "duration": 104,
    "start_time": "2022-02-05T18:31:55.045Z"
   },
   {
    "duration": 98,
    "start_time": "2022-02-05T18:32:15.843Z"
   },
   {
    "duration": 2554,
    "start_time": "2022-02-05T18:32:27.926Z"
   },
   {
    "duration": 323,
    "start_time": "2022-02-05T18:33:04.421Z"
   },
   {
    "duration": 301,
    "start_time": "2022-02-05T18:33:17.131Z"
   },
   {
    "duration": 2792,
    "start_time": "2022-02-05T18:33:40.530Z"
   },
   {
    "duration": 297,
    "start_time": "2022-02-05T18:38:43.170Z"
   },
   {
    "duration": 360,
    "start_time": "2022-02-05T18:39:03.482Z"
   },
   {
    "duration": 2423,
    "start_time": "2022-02-05T18:39:34.308Z"
   },
   {
    "duration": 376,
    "start_time": "2022-02-05T18:40:56.930Z"
   },
   {
    "duration": 333,
    "start_time": "2022-02-05T18:42:25.708Z"
   },
   {
    "duration": 101,
    "start_time": "2022-02-05T18:50:16.791Z"
   },
   {
    "duration": 108,
    "start_time": "2022-02-05T18:50:29.098Z"
   },
   {
    "duration": 2446,
    "start_time": "2022-02-05T18:50:37.255Z"
   },
   {
    "duration": 310,
    "start_time": "2022-02-05T18:51:25.405Z"
   },
   {
    "duration": 317,
    "start_time": "2022-02-05T18:52:27.352Z"
   },
   {
    "duration": 100,
    "start_time": "2022-02-05T18:53:29.342Z"
   },
   {
    "duration": 103,
    "start_time": "2022-02-05T18:53:49.596Z"
   },
   {
    "duration": 99,
    "start_time": "2022-02-05T18:54:06.158Z"
   },
   {
    "duration": 110,
    "start_time": "2022-02-05T18:54:11.382Z"
   },
   {
    "duration": 105,
    "start_time": "2022-02-05T18:54:19.610Z"
   },
   {
    "duration": 103,
    "start_time": "2022-02-05T18:55:50.450Z"
   },
   {
    "duration": 100,
    "start_time": "2022-02-05T18:56:20.270Z"
   },
   {
    "duration": 114,
    "start_time": "2022-02-05T18:56:41.294Z"
   },
   {
    "duration": 119,
    "start_time": "2022-02-05T18:57:05.482Z"
   },
   {
    "duration": 95,
    "start_time": "2022-02-05T18:57:50.543Z"
   },
   {
    "duration": 100,
    "start_time": "2022-02-05T18:58:03.818Z"
   },
   {
    "duration": 118,
    "start_time": "2022-02-05T18:58:24.706Z"
   },
   {
    "duration": 101,
    "start_time": "2022-02-05T18:59:07.086Z"
   },
   {
    "duration": 107,
    "start_time": "2022-02-05T19:00:21.214Z"
   },
   {
    "duration": 101,
    "start_time": "2022-02-05T19:02:37.410Z"
   },
   {
    "duration": 97,
    "start_time": "2022-02-05T19:03:57.738Z"
   },
   {
    "duration": 586,
    "start_time": "2022-02-05T19:05:51.420Z"
   },
   {
    "duration": 10,
    "start_time": "2022-02-05T19:05:52.838Z"
   },
   {
    "duration": 10,
    "start_time": "2022-02-05T19:05:54.372Z"
   },
   {
    "duration": 101,
    "start_time": "2022-02-05T19:05:55.151Z"
   },
   {
    "duration": 113,
    "start_time": "2022-02-05T19:08:44.245Z"
   },
   {
    "duration": 100,
    "start_time": "2022-02-05T19:08:50.286Z"
   },
   {
    "duration": 329,
    "start_time": "2022-02-05T19:09:14.197Z"
   },
   {
    "duration": 650,
    "start_time": "2022-02-05T19:09:24.171Z"
   },
   {
    "duration": 11,
    "start_time": "2022-02-05T19:09:26.743Z"
   },
   {
    "duration": 9,
    "start_time": "2022-02-05T19:09:28.551Z"
   },
   {
    "duration": 94,
    "start_time": "2022-02-05T19:09:29.303Z"
   },
   {
    "duration": 100,
    "start_time": "2022-02-05T19:10:36.139Z"
   },
   {
    "duration": 15,
    "start_time": "2022-02-05T19:19:02.325Z"
   },
   {
    "duration": 16,
    "start_time": "2022-02-05T19:20:50.430Z"
   },
   {
    "duration": 15,
    "start_time": "2022-02-05T19:21:57.394Z"
   },
   {
    "duration": 10,
    "start_time": "2022-02-05T19:25:38.566Z"
   },
   {
    "duration": 147,
    "start_time": "2022-02-05T19:33:27.950Z"
   },
   {
    "duration": 2410,
    "start_time": "2022-02-05T19:33:38.093Z"
   },
   {
    "duration": 332,
    "start_time": "2022-02-05T19:34:04.038Z"
   },
   {
    "duration": 324,
    "start_time": "2022-02-05T19:34:18.093Z"
   },
   {
    "duration": 2463,
    "start_time": "2022-02-05T19:34:26.653Z"
   },
   {
    "duration": 316,
    "start_time": "2022-02-05T19:34:54.837Z"
   },
   {
    "duration": 2450,
    "start_time": "2022-02-05T19:35:51.042Z"
   },
   {
    "duration": 351,
    "start_time": "2022-02-05T19:36:05.733Z"
   },
   {
    "duration": 307,
    "start_time": "2022-02-05T19:36:24.749Z"
   },
   {
    "duration": 320,
    "start_time": "2022-02-05T19:36:45.737Z"
   },
   {
    "duration": 315,
    "start_time": "2022-02-05T19:36:59.641Z"
   },
   {
    "duration": 297,
    "start_time": "2022-02-05T19:37:48.019Z"
   },
   {
    "duration": 2412,
    "start_time": "2022-02-05T19:38:04.794Z"
   },
   {
    "duration": 2533,
    "start_time": "2022-02-05T19:41:48.077Z"
   },
   {
    "duration": 384,
    "start_time": "2022-02-05T19:42:21.053Z"
   },
   {
    "duration": 461,
    "start_time": "2022-02-05T19:43:39.071Z"
   },
   {
    "duration": 115,
    "start_time": "2022-02-05T19:44:18.227Z"
   },
   {
    "duration": 117,
    "start_time": "2022-02-05T19:44:32.115Z"
   },
   {
    "duration": 104,
    "start_time": "2022-02-05T19:44:48.207Z"
   },
   {
    "duration": 108,
    "start_time": "2022-02-05T19:45:39.475Z"
   },
   {
    "duration": 103,
    "start_time": "2022-02-05T19:45:47.135Z"
   },
   {
    "duration": 200,
    "start_time": "2022-02-05T19:46:02.999Z"
   },
   {
    "duration": 13,
    "start_time": "2022-02-05T19:46:56.601Z"
   },
   {
    "duration": 9,
    "start_time": "2022-02-05T19:47:09.849Z"
   },
   {
    "duration": 8,
    "start_time": "2022-02-05T19:47:54.345Z"
   },
   {
    "duration": 9,
    "start_time": "2022-02-05T19:49:06.562Z"
   },
   {
    "duration": 8,
    "start_time": "2022-02-05T19:49:22.133Z"
   },
   {
    "duration": 11,
    "start_time": "2022-02-05T19:50:01.196Z"
   },
   {
    "duration": 10,
    "start_time": "2022-02-05T19:50:04.394Z"
   },
   {
    "duration": 9,
    "start_time": "2022-02-05T19:50:30.787Z"
   },
   {
    "duration": 11,
    "start_time": "2022-02-05T19:50:41.426Z"
   },
   {
    "duration": 2365,
    "start_time": "2022-02-05T19:50:57.834Z"
   },
   {
    "duration": 14,
    "start_time": "2022-02-05T19:52:28.664Z"
   },
   {
    "duration": 11,
    "start_time": "2022-02-05T19:52:52.874Z"
   },
   {
    "duration": 103,
    "start_time": "2022-02-05T19:53:04.023Z"
   },
   {
    "duration": 11,
    "start_time": "2022-02-05T19:53:55.958Z"
   },
   {
    "duration": 19,
    "start_time": "2022-02-05T19:54:36.910Z"
   },
   {
    "duration": 20,
    "start_time": "2022-02-05T19:57:58.242Z"
   },
   {
    "duration": 19,
    "start_time": "2022-02-05T19:59:08.115Z"
   },
   {
    "duration": 35,
    "start_time": "2022-02-05T20:00:09.810Z"
   },
   {
    "duration": 11,
    "start_time": "2022-02-05T20:01:06.650Z"
   },
   {
    "duration": 12,
    "start_time": "2022-02-05T20:02:06.879Z"
   },
   {
    "duration": 116,
    "start_time": "2022-02-05T20:05:29.729Z"
   },
   {
    "duration": 96,
    "start_time": "2022-02-05T20:05:54.568Z"
   },
   {
    "duration": 630,
    "start_time": "2022-02-05T20:06:11.530Z"
   },
   {
    "duration": 10,
    "start_time": "2022-02-05T20:06:13.866Z"
   },
   {
    "duration": 10,
    "start_time": "2022-02-05T20:06:15.298Z"
   },
   {
    "duration": 115,
    "start_time": "2022-02-05T20:06:16.030Z"
   },
   {
    "duration": 101,
    "start_time": "2022-02-05T20:06:30.586Z"
   },
   {
    "duration": 11,
    "start_time": "2022-02-05T20:06:44.310Z"
   },
   {
    "duration": 12,
    "start_time": "2022-02-05T20:07:54.344Z"
   },
   {
    "duration": 12,
    "start_time": "2022-02-05T20:08:51.198Z"
   },
   {
    "duration": 20,
    "start_time": "2022-02-05T20:12:54.378Z"
   },
   {
    "duration": 19,
    "start_time": "2022-02-05T20:13:42.494Z"
   },
   {
    "duration": 21,
    "start_time": "2022-02-05T20:14:09.728Z"
   },
   {
    "duration": 19,
    "start_time": "2022-02-05T20:14:54.130Z"
   },
   {
    "duration": 20,
    "start_time": "2022-02-05T20:19:08.901Z"
   },
   {
    "duration": 19,
    "start_time": "2022-02-05T20:21:49.919Z"
   },
   {
    "duration": 118,
    "start_time": "2022-02-05T20:31:33.115Z"
   },
   {
    "duration": 110,
    "start_time": "2022-02-05T20:31:49.812Z"
   },
   {
    "duration": 29,
    "start_time": "2022-02-05T20:32:02.451Z"
   },
   {
    "duration": 21,
    "start_time": "2022-02-05T20:44:08.957Z"
   },
   {
    "duration": 18,
    "start_time": "2022-02-05T20:44:47.303Z"
   },
   {
    "duration": 591,
    "start_time": "2022-02-05T20:45:13.316Z"
   },
   {
    "duration": 10,
    "start_time": "2022-02-05T20:45:14.600Z"
   },
   {
    "duration": 9,
    "start_time": "2022-02-05T20:45:15.838Z"
   },
   {
    "duration": 22,
    "start_time": "2022-02-05T20:45:16.324Z"
   },
   {
    "duration": 29,
    "start_time": "2022-02-05T20:45:17.998Z"
   },
   {
    "duration": 8,
    "start_time": "2022-02-05T20:45:18.910Z"
   },
   {
    "duration": 19,
    "start_time": "2022-02-05T20:45:19.378Z"
   },
   {
    "duration": 9,
    "start_time": "2022-02-05T20:45:20.462Z"
   },
   {
    "duration": 11,
    "start_time": "2022-02-05T20:45:20.942Z"
   },
   {
    "duration": 9,
    "start_time": "2022-02-05T20:45:21.862Z"
   },
   {
    "duration": 6,
    "start_time": "2022-02-05T20:45:22.348Z"
   },
   {
    "duration": 14,
    "start_time": "2022-02-05T20:45:23.286Z"
   },
   {
    "duration": 8,
    "start_time": "2022-02-05T20:45:23.734Z"
   },
   {
    "duration": 12,
    "start_time": "2022-02-05T20:45:24.214Z"
   },
   {
    "duration": 19,
    "start_time": "2022-02-05T20:45:24.666Z"
   },
   {
    "duration": 16,
    "start_time": "2022-02-05T20:45:25.190Z"
   },
   {
    "duration": 11,
    "start_time": "2022-02-05T20:45:41.398Z"
   },
   {
    "duration": 11,
    "start_time": "2022-02-05T20:45:42.522Z"
   },
   {
    "duration": 16,
    "start_time": "2022-02-05T20:45:43.032Z"
   },
   {
    "duration": 4,
    "start_time": "2022-02-05T20:45:45.150Z"
   },
   {
    "duration": 23,
    "start_time": "2022-02-05T20:45:45.848Z"
   },
   {
    "duration": 3921,
    "start_time": "2022-02-05T20:45:49.579Z"
   },
   {
    "duration": 23,
    "start_time": "2022-02-05T20:45:53.502Z"
   },
   {
    "duration": 18,
    "start_time": "2022-02-05T20:46:06.913Z"
   },
   {
    "duration": 18,
    "start_time": "2022-02-05T20:59:28.770Z"
   },
   {
    "duration": 318,
    "start_time": "2022-02-06T14:18:27.203Z"
   },
   {
    "duration": 370,
    "start_time": "2022-02-06T14:18:46.885Z"
   },
   {
    "duration": 265,
    "start_time": "2022-02-06T14:22:03.327Z"
   },
   {
    "duration": 663,
    "start_time": "2022-02-06T14:22:21.761Z"
   },
   {
    "duration": 13,
    "start_time": "2022-02-06T14:22:23.241Z"
   },
   {
    "duration": 11,
    "start_time": "2022-02-06T14:22:24.521Z"
   },
   {
    "duration": 24,
    "start_time": "2022-02-06T14:22:25.020Z"
   },
   {
    "duration": 41,
    "start_time": "2022-02-06T14:22:26.289Z"
   },
   {
    "duration": 10,
    "start_time": "2022-02-06T14:22:27.116Z"
   },
   {
    "duration": 21,
    "start_time": "2022-02-06T14:22:27.769Z"
   },
   {
    "duration": 10,
    "start_time": "2022-02-06T14:22:28.831Z"
   },
   {
    "duration": 19,
    "start_time": "2022-02-06T14:22:30.399Z"
   },
   {
    "duration": 11,
    "start_time": "2022-02-06T14:22:34.489Z"
   },
   {
    "duration": 7,
    "start_time": "2022-02-06T14:22:35.377Z"
   },
   {
    "duration": 18,
    "start_time": "2022-02-06T14:22:37.321Z"
   },
   {
    "duration": 8,
    "start_time": "2022-02-06T14:22:37.983Z"
   },
   {
    "duration": 12,
    "start_time": "2022-02-06T14:22:38.487Z"
   },
   {
    "duration": 24,
    "start_time": "2022-02-06T14:22:38.935Z"
   },
   {
    "duration": 21,
    "start_time": "2022-02-06T14:22:39.403Z"
   },
   {
    "duration": 13,
    "start_time": "2022-02-06T14:22:42.573Z"
   },
   {
    "duration": 12,
    "start_time": "2022-02-06T14:22:43.157Z"
   },
   {
    "duration": 19,
    "start_time": "2022-02-06T14:22:44.089Z"
   },
   {
    "duration": 5,
    "start_time": "2022-02-06T14:22:45.593Z"
   },
   {
    "duration": 39,
    "start_time": "2022-02-06T14:22:45.989Z"
   },
   {
    "duration": 4870,
    "start_time": "2022-02-06T14:22:47.139Z"
   },
   {
    "duration": 32,
    "start_time": "2022-02-06T14:22:52.015Z"
   },
   {
    "duration": 20,
    "start_time": "2022-02-06T14:22:52.573Z"
   },
   {
    "duration": 22,
    "start_time": "2022-02-06T14:22:56.167Z"
   },
   {
    "duration": 22,
    "start_time": "2022-02-06T14:22:58.722Z"
   },
   {
    "duration": 1175,
    "start_time": "2022-02-12T20:43:11.948Z"
   },
   {
    "duration": 15,
    "start_time": "2022-02-12T20:43:13.125Z"
   },
   {
    "duration": 20,
    "start_time": "2022-02-12T20:43:13.144Z"
   },
   {
    "duration": 32,
    "start_time": "2022-02-12T20:43:13.167Z"
   },
   {
    "duration": 74,
    "start_time": "2022-02-12T20:43:13.202Z"
   },
   {
    "duration": 9,
    "start_time": "2022-02-12T20:43:13.279Z"
   },
   {
    "duration": 32,
    "start_time": "2022-02-12T20:43:13.291Z"
   },
   {
    "duration": 41,
    "start_time": "2022-02-12T20:43:13.326Z"
   },
   {
    "duration": 16,
    "start_time": "2022-02-12T20:43:13.370Z"
   },
   {
    "duration": 12,
    "start_time": "2022-02-12T20:43:13.388Z"
   },
   {
    "duration": 7,
    "start_time": "2022-02-12T20:43:13.402Z"
   },
   {
    "duration": 63,
    "start_time": "2022-02-12T20:43:13.412Z"
   },
   {
    "duration": 9,
    "start_time": "2022-02-12T20:43:13.477Z"
   },
   {
    "duration": 17,
    "start_time": "2022-02-12T20:43:13.489Z"
   },
   {
    "duration": 55,
    "start_time": "2022-02-12T20:43:13.508Z"
   },
   {
    "duration": 22,
    "start_time": "2022-02-12T20:43:13.565Z"
   },
   {
    "duration": 15,
    "start_time": "2022-02-12T20:43:13.590Z"
   },
   {
    "duration": 14,
    "start_time": "2022-02-12T20:43:13.607Z"
   },
   {
    "duration": 59,
    "start_time": "2022-02-12T20:43:13.623Z"
   },
   {
    "duration": 8,
    "start_time": "2022-02-12T20:43:13.685Z"
   },
   {
    "duration": 72,
    "start_time": "2022-02-12T20:43:13.696Z"
   },
   {
    "duration": 16371,
    "start_time": "2022-02-12T20:43:13.771Z"
   },
   {
    "duration": 42,
    "start_time": "2022-02-12T20:43:30.159Z"
   },
   {
    "duration": 27,
    "start_time": "2022-02-12T20:43:30.203Z"
   },
   {
    "duration": 49,
    "start_time": "2022-02-12T20:43:30.232Z"
   },
   {
    "duration": 28,
    "start_time": "2022-02-12T20:43:30.284Z"
   },
   {
    "duration": 35,
    "start_time": "2022-02-12T20:47:00.881Z"
   },
   {
    "duration": 72,
    "start_time": "2022-02-13T17:22:56.041Z"
   },
   {
    "duration": 10,
    "start_time": "2022-02-13T17:22:58.947Z"
   },
   {
    "duration": 10,
    "start_time": "2022-02-13T17:23:00.709Z"
   },
   {
    "duration": 31,
    "start_time": "2022-02-13T17:23:01.952Z"
   },
   {
    "duration": 59,
    "start_time": "2022-02-13T17:23:06.495Z"
   },
   {
    "duration": 18,
    "start_time": "2022-02-13T17:23:06.556Z"
   },
   {
    "duration": 14,
    "start_time": "2022-02-13T17:23:06.576Z"
   },
   {
    "duration": 22,
    "start_time": "2022-02-13T17:23:06.592Z"
   },
   {
    "duration": 51,
    "start_time": "2022-02-13T17:23:06.615Z"
   },
   {
    "duration": 10,
    "start_time": "2022-02-13T17:23:06.669Z"
   },
   {
    "duration": 5,
    "start_time": "2022-02-13T17:23:06.681Z"
   },
   {
    "duration": 11,
    "start_time": "2022-02-13T17:23:06.687Z"
   },
   {
    "duration": 11,
    "start_time": "2022-02-13T17:23:06.700Z"
   },
   {
    "duration": 9,
    "start_time": "2022-02-13T17:23:06.713Z"
   },
   {
    "duration": 44,
    "start_time": "2022-02-13T17:23:06.723Z"
   },
   {
    "duration": 23,
    "start_time": "2022-02-13T17:23:06.769Z"
   },
   {
    "duration": 7,
    "start_time": "2022-02-13T17:23:06.793Z"
   },
   {
    "duration": 14,
    "start_time": "2022-02-13T17:23:06.801Z"
   },
   {
    "duration": 22,
    "start_time": "2022-02-13T17:23:06.817Z"
   },
   {
    "duration": 39,
    "start_time": "2022-02-13T17:23:06.840Z"
   },
   {
    "duration": 11,
    "start_time": "2022-02-13T17:23:06.880Z"
   },
   {
    "duration": 10,
    "start_time": "2022-02-13T17:23:06.892Z"
   },
   {
    "duration": 14,
    "start_time": "2022-02-13T17:23:06.904Z"
   },
   {
    "duration": 4,
    "start_time": "2022-02-13T17:23:06.920Z"
   },
   {
    "duration": 62,
    "start_time": "2022-02-13T17:23:06.925Z"
   },
   {
    "duration": 4436,
    "start_time": "2022-02-13T17:23:06.989Z"
   },
   {
    "duration": 36,
    "start_time": "2022-02-13T17:23:11.427Z"
   },
   {
    "duration": 181,
    "start_time": "2022-02-13T17:23:11.466Z"
   },
   {
    "duration": -1029,
    "start_time": "2022-02-13T17:23:12.678Z"
   },
   {
    "duration": -1030,
    "start_time": "2022-02-13T17:23:12.680Z"
   },
   {
    "duration": 173,
    "start_time": "2022-02-13T17:24:26.766Z"
   },
   {
    "duration": 185,
    "start_time": "2022-02-13T17:25:45.550Z"
   },
   {
    "duration": 20,
    "start_time": "2022-02-13T17:26:30.694Z"
   },
   {
    "duration": 20,
    "start_time": "2022-02-13T17:26:47.205Z"
   },
   {
    "duration": 5,
    "start_time": "2022-02-13T17:29:16.985Z"
   },
   {
    "duration": 5,
    "start_time": "2022-02-13T17:29:27.513Z"
   },
   {
    "duration": 21,
    "start_time": "2022-02-13T17:29:28.540Z"
   },
   {
    "duration": 21,
    "start_time": "2022-02-13T17:29:52.936Z"
   },
   {
    "duration": 4228,
    "start_time": "2022-02-13T17:30:05.579Z"
   },
   {
    "duration": 812,
    "start_time": "2022-02-14T05:40:45.220Z"
   },
   {
    "duration": 348,
    "start_time": "2022-02-14T06:48:41.858Z"
   },
   {
    "duration": 84,
    "start_time": "2022-02-14T06:49:26.605Z"
   },
   {
    "duration": 16,
    "start_time": "2022-02-14T06:49:30.139Z"
   },
   {
    "duration": 13,
    "start_time": "2022-02-14T06:49:30.891Z"
   },
   {
    "duration": 35,
    "start_time": "2022-02-14T06:49:31.240Z"
   },
   {
    "duration": 47,
    "start_time": "2022-02-14T06:49:32.915Z"
   },
   {
    "duration": 12,
    "start_time": "2022-02-14T06:49:33.891Z"
   },
   {
    "duration": 8,
    "start_time": "2022-02-14T06:49:34.499Z"
   },
   {
    "duration": 16,
    "start_time": "2022-02-14T06:49:35.395Z"
   },
   {
    "duration": 17,
    "start_time": "2022-02-14T06:49:35.699Z"
   },
   {
    "duration": 16,
    "start_time": "2022-02-14T06:49:36.275Z"
   },
   {
    "duration": 9,
    "start_time": "2022-02-14T06:49:36.867Z"
   },
   {
    "duration": 23,
    "start_time": "2022-02-14T06:49:37.451Z"
   },
   {
    "duration": 10,
    "start_time": "2022-02-14T06:49:37.747Z"
   },
   {
    "duration": 17,
    "start_time": "2022-02-14T06:49:38.019Z"
   },
   {
    "duration": 30,
    "start_time": "2022-02-14T06:49:38.347Z"
   },
   {
    "duration": 24,
    "start_time": "2022-02-14T06:49:38.891Z"
   },
   {
    "duration": 19,
    "start_time": "2022-02-14T06:49:39.691Z"
   },
   {
    "duration": 18,
    "start_time": "2022-02-14T06:49:39.931Z"
   },
   {
    "duration": 8,
    "start_time": "2022-02-14T06:49:40.207Z"
   },
   {
    "duration": 7,
    "start_time": "2022-02-14T06:49:41.099Z"
   },
   {
    "duration": 33,
    "start_time": "2022-02-14T06:49:41.675Z"
   },
   {
    "duration": 6208,
    "start_time": "2022-02-14T06:49:42.251Z"
   },
   {
    "duration": 39,
    "start_time": "2022-02-14T06:49:48.470Z"
   },
   {
    "duration": 28,
    "start_time": "2022-02-14T06:49:48.512Z"
   },
   {
    "duration": 29,
    "start_time": "2022-02-14T06:49:48.569Z"
   },
   {
    "duration": 255,
    "start_time": "2022-02-14T06:49:48.601Z"
   },
   {
    "duration": 6229,
    "start_time": "2022-02-14T06:50:17.310Z"
   },
   {
    "duration": 32,
    "start_time": "2022-02-14T06:50:56.740Z"
   },
   {
    "duration": 30,
    "start_time": "2022-02-14T06:51:00.715Z"
   },
   {
    "duration": 29,
    "start_time": "2022-02-14T06:51:04.748Z"
   },
   {
    "duration": 306,
    "start_time": "2022-02-14T06:51:10.891Z"
   },
   {
    "duration": 31,
    "start_time": "2022-02-14T06:54:10.071Z"
   }
  ],
  "kernelspec": {
   "display_name": "Python 3 (ipykernel)",
   "language": "python",
   "name": "python3"
  },
  "language_info": {
   "codemirror_mode": {
    "name": "ipython",
    "version": 3
   },
   "file_extension": ".py",
   "mimetype": "text/x-python",
   "name": "python",
   "nbconvert_exporter": "python",
   "pygments_lexer": "ipython3",
   "version": "3.9.7"
  },
  "toc": {
   "base_numbering": 1,
   "nav_menu": {},
   "number_sections": true,
   "sideBar": true,
   "skip_h1_title": true,
   "title_cell": "Table of Contents",
   "title_sidebar": "Contents",
   "toc_cell": false,
   "toc_position": {
    "height": "calc(100% - 180px)",
    "left": "10px",
    "top": "150px",
    "width": "262.81px"
   },
   "toc_section_display": true,
   "toc_window_display": true
  }
 },
 "nbformat": 4,
 "nbformat_minor": 5
}
